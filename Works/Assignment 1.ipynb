{
 "cells": [
  {
   "cell_type": "markdown",
   "id": "9da0d880",
   "metadata": {},
   "source": [
    "## Question 1"
   ]
  },
  {
   "cell_type": "code",
   "execution_count": 9,
   "id": "d06bf293",
   "metadata": {
    "scrolled": true
   },
   "outputs": [
    {
     "name": "stdout",
     "output_type": "stream",
     "text": [
      "Enter value M: 5\n",
      "Enter value N: 3\n",
      "Enter value A: 2\n",
      "0.92825664 0.62790011 0.80130199\n",
      "0.64283876 0.16558409 0.54573802\n",
      "0.04319311 0.80229079 0.72512472\n",
      "0.8005622 0.98844625 0.6982794\n",
      "0.46600134 0.51451131 0.6415925\n",
      "0.31898348 0.49050318\n",
      "0.53845583 0.48259499\n",
      "0.89102055 0.35539951\n",
      "[1.34817155, 1.04311662]\n",
      "[0.78047845, 0.58917953]\n",
      "[1.09187707, 0.66607684]\n",
      "[1.40978206, 1.11786567]\n",
      "[0.99736045, 0.70489738]\n"
     ]
    }
   ],
   "source": [
    "M = int(input(\"Enter value M: \"))\n",
    "N = int(input(\"Enter value N: \"))\n",
    "A = int(input(\"Enter value A: \"))\n",
    "matA, matB, matC = [], [], []\n",
    "\n",
    "##Inputs\n",
    "print(\"First Array: \")\n",
    "for i in range(M):\n",
    "    temp = list(map(float, input().split()))   #Row-wise Input\n",
    "    matA.append(temp)\n",
    "print(\"Second Array: \")\n",
    "for i in range(N):\n",
    "    temp = list(map(float, input().split()))   #Row-wise Input\n",
    "    matB.append(temp)\n",
    "\n",
    "for i in range(M):\n",
    "    temp = []\n",
    "    for j in range(A):\n",
    "        sum1 = 0.0\n",
    "        for k in range(N):\n",
    "            sum1 += matA[i][k] * matB[k][j]\n",
    "        temp.append(float(\"{:.8f}\".format(sum1)))\n",
    "    matC.append(temp)\n",
    "\n",
    "##Output\n",
    "print(\"Dot Product of two arrays: \")\n",
    "for res in matC:\n",
    "    print(res)"
   ]
  },
  {
   "cell_type": "markdown",
   "id": "4d88a8fd",
   "metadata": {},
   "source": [
    "## Question 2"
   ]
  },
  {
   "cell_type": "code",
   "execution_count": 14,
   "id": "72cb8593",
   "metadata": {},
   "outputs": [
    {
     "name": "stdout",
     "output_type": "stream",
     "text": [
      "Original Array: Python PHP JS Examples html 5\n",
      "Digits Only:  [False, False, False, False, False, True]\n",
      "Upper Only:  [False, True, True, False, False, False]\n",
      "Lower Only:  [False, False, False, False, True, False]\n"
     ]
    }
   ],
   "source": [
    "print(\"Original Array: \", end = \"\")\n",
    "lst = list(input().split())\n",
    "digits, upper, lower = [], [], []\n",
    "for i in lst:\n",
    "    digits.append(True) if i.isdigit() else digits.append(False)\n",
    "    upper.append(True) if i.isupper() else upper.append(False)\n",
    "    lower.append(True) if i.islower() else lower.append(False)\n",
    "print(\"Digits Only: \", digits)\n",
    "print(\"Upper Only: \", upper)\n",
    "print(\"Lower Only: \", lower)"
   ]
  },
  {
   "cell_type": "markdown",
   "id": "905bc397",
   "metadata": {},
   "source": [
    "## Question 3"
   ]
  },
  {
   "cell_type": "code",
   "execution_count": 44,
   "id": "85f6b0ba",
   "metadata": {},
   "outputs": [
    {
     "name": "stdout",
     "output_type": "stream",
     "text": [
      "7 9\n",
      "[  0  -2  -4  -6  -8 -10 -12 -14 -16 -18 -20 -22 -24 -26 -28 -30]\n"
     ]
    }
   ],
   "source": [
    "X, Y = map(int, input().split())\n",
    "lst1 = list(range(1, 16*X, X))\n",
    "lst2 = list(range(1, 16*Y, Y))\n",
    "\n",
    "import numpy as np\n",
    "\n",
    "np1 = np.array(lst1)\n",
    "np2 = np.array(lst2)\n",
    "\n",
    "np1 = np1.reshape(4, 4)\n",
    "np2 = np2.reshape(4, 4)\n",
    "\n",
    "np3 = np.empty((4,4))\n",
    "\n",
    "for i in range(4):\n",
    "    for j in range(4):\n",
    "        np3[i][j] = np1[i][j] - np2[i][j]\n",
    "\n",
    "np3 = np.reshape(np3, 16)\n",
    "\n",
    "print(np3.astype(int))"
   ]
  },
  {
   "cell_type": "markdown",
   "id": "bf483db5",
   "metadata": {},
   "source": [
    "## Question 4"
   ]
  },
  {
   "cell_type": "code",
   "execution_count": 43,
   "id": "c1b1cef3",
   "metadata": {},
   "outputs": [
    {
     "name": "stdout",
     "output_type": "stream",
     "text": [
      "23 56 87 3 6 96 4 6 78\n",
      "12 34 54 7 2 54 6 2 78\n",
      "[[11 22 33]\n",
      " [-4  4 42]\n",
      " [-2  4  0]]\n"
     ]
    }
   ],
   "source": [
    "import numpy as np\n",
    "\n",
    "P = np.array(list(map(int, input().split()))).reshape(3, 3)\n",
    "Q = np.array(list(map(int, input().split()))).reshape(3, 3)\n",
    "\n",
    "res = np.empty((3, 3))\n",
    "\n",
    "for i in range(3):\n",
    "    for j in range(3):\n",
    "        res[i][j] = P[i][j] - Q[i][j]\n",
    "print(res.astype(int))"
   ]
  }
 ],
 "metadata": {
  "kernelspec": {
   "display_name": "Python 3 (ipykernel)",
   "language": "python",
   "name": "python3"
  },
  "language_info": {
   "codemirror_mode": {
    "name": "ipython",
    "version": 3
   },
   "file_extension": ".py",
   "mimetype": "text/x-python",
   "name": "python",
   "nbconvert_exporter": "python",
   "pygments_lexer": "ipython3",
   "version": "3.9.12"
  }
 },
 "nbformat": 4,
 "nbformat_minor": 5
}
