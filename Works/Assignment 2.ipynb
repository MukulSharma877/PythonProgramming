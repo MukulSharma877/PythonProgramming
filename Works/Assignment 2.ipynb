{
 "cells": [
  {
   "cell_type": "markdown",
   "id": "c746b8a1",
   "metadata": {},
   "source": [
    "# Question 1"
   ]
  },
  {
   "cell_type": "markdown",
   "id": "33df86b4",
   "metadata": {},
   "source": [
    "## Import the dataset as a DataFrame and drop the first column"
   ]
  },
  {
   "cell_type": "code",
   "execution_count": 1,
   "id": "d531cc6a",
   "metadata": {},
   "outputs": [],
   "source": [
    "import pandas as pd"
   ]
  },
  {
   "cell_type": "code",
   "execution_count": 2,
   "id": "367bca1c",
   "metadata": {},
   "outputs": [],
   "source": [
    "spotify = pd.read_csv(\"top50spotify.csv\")"
   ]
  },
  {
   "cell_type": "code",
   "execution_count": 3,
   "id": "ef60c2df",
   "metadata": {},
   "outputs": [],
   "source": [
    "spotify = spotify.drop(\"SerialNo.\", axis=1)"
   ]
  },
  {
   "cell_type": "markdown",
   "id": "a540153a",
   "metadata": {},
   "source": [
    "## Save it as 'top50.csv'"
   ]
  },
  {
   "cell_type": "code",
   "execution_count": 4,
   "id": "49825c51",
   "metadata": {},
   "outputs": [],
   "source": [
    "spotify.to_csv(\"top50.csv\")"
   ]
  },
  {
   "cell_type": "markdown",
   "id": "f0e632a1",
   "metadata": {},
   "source": [
    "## Find the average Energy and Length of first 10 songs"
   ]
  },
  {
   "cell_type": "code",
   "execution_count": 11,
   "id": "23dad145",
   "metadata": {
    "scrolled": true
   },
   "outputs": [
    {
     "name": "stdout",
     "output_type": "stream",
     "text": [
      "Energy      65.1\n",
      "Length.    195.6\n",
      "dtype: float64\n"
     ]
    }
   ],
   "source": [
    "print(spotify.loc[:9, [\"Energy\", \"Length.\"]].sum()/10)"
   ]
  },
  {
   "cell_type": "code",
   "execution_count": 17,
   "id": "7cccd2f2",
   "metadata": {},
   "outputs": [
    {
     "name": "stdout",
     "output_type": "stream",
     "text": [
      "Average Energy of First 10 Songs:  65.1\n"
     ]
    }
   ],
   "source": [
    "print(\"Average Energy of First 10 Songs: \", sum(list(spotify.iloc[:10, 4]))/10)"
   ]
  },
  {
   "cell_type": "code",
   "execution_count": 18,
   "id": "d027f60b",
   "metadata": {},
   "outputs": [
    {
     "name": "stdout",
     "output_type": "stream",
     "text": [
      "Average Length of First 10 Songs:  195.6\n"
     ]
    }
   ],
   "source": [
    "print(\"Average Length of First 10 Songs: \", sum(list(spotify.iloc[:10, 9]))/10)"
   ]
  },
  {
   "cell_type": "markdown",
   "id": "799e4e01",
   "metadata": {},
   "source": [
    "## Find the total length of songs, group by genre from top to bottom"
   ]
  },
  {
   "cell_type": "code",
   "execution_count": 19,
   "id": "9845c085",
   "metadata": {},
   "outputs": [
    {
     "name": "stdout",
     "output_type": "stream",
     "text": [
      "Genre\n",
      "atl hip hop          200\n",
      "australian pop       210\n",
      "big room             164\n",
      "boy band             181\n",
      "brostep              396\n",
      "canadian hip hop     579\n",
      "canadian pop         382\n",
      "country rap          272\n",
      "dance pop           1621\n",
      "dfw rap              333\n",
      "edm                  656\n",
      "electropop           389\n",
      "escape room          173\n",
      "latin               1126\n",
      "panamanian pop       514\n",
      "pop                 1368\n",
      "pop house            153\n",
      "r&b en espanol       162\n",
      "reggaeton            427\n",
      "reggaeton flow       611\n",
      "trap music           131\n",
      "Name: Length., dtype: int64\n"
     ]
    }
   ],
   "source": [
    "print(spotify.groupby(\"Genre\")[\"Length.\"].sum())"
   ]
  },
  {
   "cell_type": "code",
   "execution_count": 7,
   "id": "43746d63",
   "metadata": {},
   "outputs": [
    {
     "name": "stdout",
     "output_type": "stream",
     "text": [
      "Total Length of Songs of atl hip hop Genre: 200\n",
      "Total Length of Songs of australian pop Genre: 210\n",
      "Total Length of Songs of big room Genre: 164\n",
      "Total Length of Songs of boy band Genre: 181\n",
      "Total Length of Songs of brostep Genre: 396\n",
      "Total Length of Songs of canadian hip hop Genre: 579\n",
      "Total Length of Songs of canadian pop Genre: 382\n",
      "Total Length of Songs of country rap Genre: 272\n",
      "Total Length of Songs of dance pop Genre: 1621\n",
      "Total Length of Songs of dfw rap Genre: 333\n",
      "Total Length of Songs of edm Genre: 656\n",
      "Total Length of Songs of electropop Genre: 389\n",
      "Total Length of Songs of escape room Genre: 173\n",
      "Total Length of Songs of latin Genre: 1126\n",
      "Total Length of Songs of panamanian pop Genre: 514\n",
      "Total Length of Songs of pop Genre: 1368\n",
      "Total Length of Songs of pop house Genre: 153\n",
      "Total Length of Songs of r&b en espanol Genre: 162\n",
      "Total Length of Songs of reggaeton Genre: 427\n",
      "Total Length of Songs of reggaeton flow Genre: 611\n",
      "Total Length of Songs of trap music Genre: 131\n"
     ]
    }
   ],
   "source": [
    "for genre, _ in spotify.groupby(\"Genre\"):\n",
    "    print(\"Total Length of Songs of {} Genre: {}\".format(genre, sum(list(spotify[spotify[\"Genre\"] == genre].loc[:, \"Length.\"]))))"
   ]
  },
  {
   "cell_type": "markdown",
   "id": "beafe4be",
   "metadata": {},
   "source": [
    "## Print the artist name with the most number of tracks in one genre"
   ]
  },
  {
   "cell_type": "code",
   "execution_count": 24,
   "id": "de870521",
   "metadata": {},
   "outputs": [
    {
     "data": {
      "text/html": [
       "<div>\n",
       "<style scoped>\n",
       "    .dataframe tbody tr th:only-of-type {\n",
       "        vertical-align: middle;\n",
       "    }\n",
       "\n",
       "    .dataframe tbody tr th {\n",
       "        vertical-align: top;\n",
       "    }\n",
       "\n",
       "    .dataframe thead th {\n",
       "        text-align: right;\n",
       "    }\n",
       "</style>\n",
       "<table border=\"1\" class=\"dataframe\">\n",
       "  <thead>\n",
       "    <tr style=\"text-align: right;\">\n",
       "      <th></th>\n",
       "      <th>Genre</th>\n",
       "      <th>Artist.Name</th>\n",
       "      <th>NTracks</th>\n",
       "    </tr>\n",
       "  </thead>\n",
       "  <tbody>\n",
       "    <tr>\n",
       "      <th>27</th>\n",
       "      <td>pop</td>\n",
       "      <td>Ed Sheeran</td>\n",
       "      <td>4</td>\n",
       "    </tr>\n",
       "  </tbody>\n",
       "</table>\n",
       "</div>"
      ],
      "text/plain": [
       "   Genre Artist.Name  NTracks\n",
       "27   pop  Ed Sheeran        4"
      ]
     },
     "execution_count": 24,
     "metadata": {},
     "output_type": "execute_result"
    }
   ],
   "source": [
    "keys = [\"Genre\", \"Artist.Name\", \"NTracks\"]\n",
    "spotify_new = pd.DataFrame(columns=keys)\n",
    "i = 0\n",
    "\n",
    "for x, y in spotify.groupby([\"Genre\", \"Artist.Name\"]):\n",
    "    spotify_new.loc[i] = [x[0], x[1], y[\"Artist.Name\"].count()]\n",
    "    i += 1\n",
    "    \n",
    "\n",
    "spotify_new[spotify_new[\"NTracks\"] == spotify_new[\"NTracks\"].max()]"
   ]
  },
  {
   "cell_type": "markdown",
   "id": "ac3661e8",
   "metadata": {},
   "source": [
    "## Print the data of the tracks created by the artist from the previous question"
   ]
  },
  {
   "cell_type": "code",
   "execution_count": 25,
   "id": "b6a6d8ff",
   "metadata": {},
   "outputs": [
    {
     "data": {
      "text/html": [
       "<div>\n",
       "<style scoped>\n",
       "    .dataframe tbody tr th:only-of-type {\n",
       "        vertical-align: middle;\n",
       "    }\n",
       "\n",
       "    .dataframe tbody tr th {\n",
       "        vertical-align: top;\n",
       "    }\n",
       "\n",
       "    .dataframe thead th {\n",
       "        text-align: right;\n",
       "    }\n",
       "</style>\n",
       "<table border=\"1\" class=\"dataframe\">\n",
       "  <thead>\n",
       "    <tr style=\"text-align: right;\">\n",
       "      <th></th>\n",
       "      <th>Track.Name</th>\n",
       "      <th>Artist.Name</th>\n",
       "      <th>Genre</th>\n",
       "      <th>Beats.Per.Minute</th>\n",
       "      <th>Energy</th>\n",
       "      <th>Danceability</th>\n",
       "      <th>Loudness..dB..</th>\n",
       "      <th>Liveness</th>\n",
       "      <th>Valence.</th>\n",
       "      <th>Length.</th>\n",
       "      <th>Acousticness..</th>\n",
       "      <th>Speechiness.</th>\n",
       "      <th>Popularity</th>\n",
       "    </tr>\n",
       "  </thead>\n",
       "  <tbody>\n",
       "    <tr>\n",
       "      <th>3</th>\n",
       "      <td>Beautiful People (feat. Khalid)</td>\n",
       "      <td>Ed Sheeran</td>\n",
       "      <td>pop</td>\n",
       "      <td>93</td>\n",
       "      <td>65</td>\n",
       "      <td>64</td>\n",
       "      <td>-8</td>\n",
       "      <td>8</td>\n",
       "      <td>55</td>\n",
       "      <td>198</td>\n",
       "      <td>12</td>\n",
       "      <td>19</td>\n",
       "      <td>86</td>\n",
       "    </tr>\n",
       "    <tr>\n",
       "      <th>5</th>\n",
       "      <td>I Don't Care (with Justin Bieber)</td>\n",
       "      <td>Ed Sheeran</td>\n",
       "      <td>pop</td>\n",
       "      <td>102</td>\n",
       "      <td>68</td>\n",
       "      <td>80</td>\n",
       "      <td>-5</td>\n",
       "      <td>9</td>\n",
       "      <td>84</td>\n",
       "      <td>220</td>\n",
       "      <td>9</td>\n",
       "      <td>4</td>\n",
       "      <td>84</td>\n",
       "    </tr>\n",
       "    <tr>\n",
       "      <th>37</th>\n",
       "      <td>Antisocial (with Travis Scott)</td>\n",
       "      <td>Ed Sheeran</td>\n",
       "      <td>pop</td>\n",
       "      <td>152</td>\n",
       "      <td>82</td>\n",
       "      <td>72</td>\n",
       "      <td>-5</td>\n",
       "      <td>36</td>\n",
       "      <td>91</td>\n",
       "      <td>162</td>\n",
       "      <td>13</td>\n",
       "      <td>5</td>\n",
       "      <td>87</td>\n",
       "    </tr>\n",
       "    <tr>\n",
       "      <th>49</th>\n",
       "      <td>Cross Me (feat. Chance the Rapper &amp; PnB Rock)</td>\n",
       "      <td>Ed Sheeran</td>\n",
       "      <td>pop</td>\n",
       "      <td>95</td>\n",
       "      <td>79</td>\n",
       "      <td>75</td>\n",
       "      <td>-6</td>\n",
       "      <td>7</td>\n",
       "      <td>61</td>\n",
       "      <td>206</td>\n",
       "      <td>21</td>\n",
       "      <td>12</td>\n",
       "      <td>82</td>\n",
       "    </tr>\n",
       "  </tbody>\n",
       "</table>\n",
       "</div>"
      ],
      "text/plain": [
       "                                       Track.Name Artist.Name Genre  \\\n",
       "3                 Beautiful People (feat. Khalid)  Ed Sheeran   pop   \n",
       "5               I Don't Care (with Justin Bieber)  Ed Sheeran   pop   \n",
       "37                 Antisocial (with Travis Scott)  Ed Sheeran   pop   \n",
       "49  Cross Me (feat. Chance the Rapper & PnB Rock)  Ed Sheeran   pop   \n",
       "\n",
       "    Beats.Per.Minute  Energy  Danceability  Loudness..dB..  Liveness  \\\n",
       "3                 93      65            64              -8         8   \n",
       "5                102      68            80              -5         9   \n",
       "37               152      82            72              -5        36   \n",
       "49                95      79            75              -6         7   \n",
       "\n",
       "    Valence.  Length.  Acousticness..  Speechiness.  Popularity  \n",
       "3         55      198              12            19          86  \n",
       "5         84      220               9             4          84  \n",
       "37        91      162              13             5          87  \n",
       "49        61      206              21            12          82  "
      ]
     },
     "execution_count": 25,
     "metadata": {},
     "output_type": "execute_result"
    }
   ],
   "source": [
    "spotify[spotify[\"Artist.Name\"] == \"Ed Sheeran\"]"
   ]
  },
  {
   "cell_type": "markdown",
   "id": "2a7e8bce",
   "metadata": {},
   "source": [
    "# Question 2"
   ]
  },
  {
   "cell_type": "markdown",
   "id": "4d585492",
   "metadata": {},
   "source": [
    "## Create a pandas series from the below dictionary where indices are subjects"
   ]
  },
  {
   "cell_type": "raw",
   "id": "da485ff0",
   "metadata": {},
   "source": [
    "{'English':{'Sam':60,'Jackson':74,'Ahree':85},\n",
    " 'History':{'Gloria':83,'Sam':65,'Isla':78,'Aron':72,'Gray':61},\n",
    " 'Geography':{'Jackson':92,'Gloria':95,'Isla':82,'Aron':75,'Ahree':76},\n",
    " 'Mathematics':{'Sam':99,'Gloria':74,'Jackson':89,'Ahree':85,'Gray':95},\n",
    " 'Science':{'Sam':89,'Aron':82,'Gray':78,'Isla':93,'Ahree':87}}"
   ]
  },
  {
   "cell_type": "code",
   "execution_count": 27,
   "id": "b6adceac",
   "metadata": {},
   "outputs": [],
   "source": [
    "panSer = pd.Series({'English':{'Sam':60,'Jackson':74,'Ahree':85},'History':{'Gloria':83,'Sam':65,'Isla':78,'Aron':72,'Gray':61},'Geography':{'Jackson':92,'Gloria':95,'Isla':82,'Aron':75,'Ahree':76},'Mathematics':{'Sam':99,'Gloria':74,'Jackson':89,'Ahree':85,'Gray':95},'Science':{'Sam':89,'Aron':82,'Gray':78,'Isla':93,'Ahree':87}})"
   ]
  },
  {
   "cell_type": "code",
   "execution_count": 29,
   "id": "b8f90fba",
   "metadata": {
    "scrolled": true
   },
   "outputs": [
    {
     "data": {
      "text/html": [
       "<div>\n",
       "<style scoped>\n",
       "    .dataframe tbody tr th:only-of-type {\n",
       "        vertical-align: middle;\n",
       "    }\n",
       "\n",
       "    .dataframe tbody tr th {\n",
       "        vertical-align: top;\n",
       "    }\n",
       "\n",
       "    .dataframe thead th {\n",
       "        text-align: right;\n",
       "    }\n",
       "</style>\n",
       "<table border=\"1\" class=\"dataframe\">\n",
       "  <thead>\n",
       "    <tr style=\"text-align: right;\">\n",
       "      <th></th>\n",
       "      <th>Sam</th>\n",
       "      <th>Jackson</th>\n",
       "      <th>Ahree</th>\n",
       "      <th>Gloria</th>\n",
       "      <th>Isla</th>\n",
       "      <th>Aron</th>\n",
       "      <th>Gray</th>\n",
       "    </tr>\n",
       "  </thead>\n",
       "  <tbody>\n",
       "    <tr>\n",
       "      <th>English</th>\n",
       "      <td>60.0</td>\n",
       "      <td>74.0</td>\n",
       "      <td>85.0</td>\n",
       "      <td>NaN</td>\n",
       "      <td>NaN</td>\n",
       "      <td>NaN</td>\n",
       "      <td>NaN</td>\n",
       "    </tr>\n",
       "    <tr>\n",
       "      <th>History</th>\n",
       "      <td>65.0</td>\n",
       "      <td>NaN</td>\n",
       "      <td>NaN</td>\n",
       "      <td>83.0</td>\n",
       "      <td>78.0</td>\n",
       "      <td>72.0</td>\n",
       "      <td>61.0</td>\n",
       "    </tr>\n",
       "    <tr>\n",
       "      <th>Geography</th>\n",
       "      <td>NaN</td>\n",
       "      <td>92.0</td>\n",
       "      <td>76.0</td>\n",
       "      <td>95.0</td>\n",
       "      <td>82.0</td>\n",
       "      <td>75.0</td>\n",
       "      <td>NaN</td>\n",
       "    </tr>\n",
       "    <tr>\n",
       "      <th>Mathematics</th>\n",
       "      <td>99.0</td>\n",
       "      <td>89.0</td>\n",
       "      <td>85.0</td>\n",
       "      <td>74.0</td>\n",
       "      <td>NaN</td>\n",
       "      <td>NaN</td>\n",
       "      <td>95.0</td>\n",
       "    </tr>\n",
       "    <tr>\n",
       "      <th>Science</th>\n",
       "      <td>89.0</td>\n",
       "      <td>NaN</td>\n",
       "      <td>87.0</td>\n",
       "      <td>NaN</td>\n",
       "      <td>93.0</td>\n",
       "      <td>82.0</td>\n",
       "      <td>78.0</td>\n",
       "    </tr>\n",
       "  </tbody>\n",
       "</table>\n",
       "</div>"
      ],
      "text/plain": [
       "              Sam  Jackson  Ahree  Gloria  Isla  Aron  Gray\n",
       "English      60.0     74.0   85.0     NaN   NaN   NaN   NaN\n",
       "History      65.0      NaN    NaN    83.0  78.0  72.0  61.0\n",
       "Geography     NaN     92.0   76.0    95.0  82.0  75.0   NaN\n",
       "Mathematics  99.0     89.0   85.0    74.0   NaN   NaN  95.0\n",
       "Science      89.0      NaN   87.0     NaN  93.0  82.0  78.0"
      ]
     },
     "execution_count": 29,
     "metadata": {},
     "output_type": "execute_result"
    }
   ],
   "source": [
    "panSer = panSer.apply(pd.Series)\n",
    "panSer"
   ]
  },
  {
   "cell_type": "markdown",
   "id": "7f133362",
   "metadata": {},
   "source": [
    "## Convert the created series into DataFrame and replace the null values with zeroes"
   ]
  },
  {
   "cell_type": "code",
   "execution_count": 30,
   "id": "c42a9c4a",
   "metadata": {},
   "outputs": [],
   "source": [
    "panDF = pd.DataFrame(panSer)\n",
    "panDF = panDF.fillna(value=0)"
   ]
  },
  {
   "cell_type": "code",
   "execution_count": 31,
   "id": "28b8b623",
   "metadata": {},
   "outputs": [
    {
     "data": {
      "text/html": [
       "<div>\n",
       "<style scoped>\n",
       "    .dataframe tbody tr th:only-of-type {\n",
       "        vertical-align: middle;\n",
       "    }\n",
       "\n",
       "    .dataframe tbody tr th {\n",
       "        vertical-align: top;\n",
       "    }\n",
       "\n",
       "    .dataframe thead th {\n",
       "        text-align: right;\n",
       "    }\n",
       "</style>\n",
       "<table border=\"1\" class=\"dataframe\">\n",
       "  <thead>\n",
       "    <tr style=\"text-align: right;\">\n",
       "      <th></th>\n",
       "      <th>Sam</th>\n",
       "      <th>Jackson</th>\n",
       "      <th>Ahree</th>\n",
       "      <th>Gloria</th>\n",
       "      <th>Isla</th>\n",
       "      <th>Aron</th>\n",
       "      <th>Gray</th>\n",
       "    </tr>\n",
       "  </thead>\n",
       "  <tbody>\n",
       "    <tr>\n",
       "      <th>English</th>\n",
       "      <td>60.0</td>\n",
       "      <td>74.0</td>\n",
       "      <td>85.0</td>\n",
       "      <td>0.0</td>\n",
       "      <td>0.0</td>\n",
       "      <td>0.0</td>\n",
       "      <td>0.0</td>\n",
       "    </tr>\n",
       "    <tr>\n",
       "      <th>History</th>\n",
       "      <td>65.0</td>\n",
       "      <td>0.0</td>\n",
       "      <td>0.0</td>\n",
       "      <td>83.0</td>\n",
       "      <td>78.0</td>\n",
       "      <td>72.0</td>\n",
       "      <td>61.0</td>\n",
       "    </tr>\n",
       "    <tr>\n",
       "      <th>Geography</th>\n",
       "      <td>0.0</td>\n",
       "      <td>92.0</td>\n",
       "      <td>76.0</td>\n",
       "      <td>95.0</td>\n",
       "      <td>82.0</td>\n",
       "      <td>75.0</td>\n",
       "      <td>0.0</td>\n",
       "    </tr>\n",
       "    <tr>\n",
       "      <th>Mathematics</th>\n",
       "      <td>99.0</td>\n",
       "      <td>89.0</td>\n",
       "      <td>85.0</td>\n",
       "      <td>74.0</td>\n",
       "      <td>0.0</td>\n",
       "      <td>0.0</td>\n",
       "      <td>95.0</td>\n",
       "    </tr>\n",
       "    <tr>\n",
       "      <th>Science</th>\n",
       "      <td>89.0</td>\n",
       "      <td>0.0</td>\n",
       "      <td>87.0</td>\n",
       "      <td>0.0</td>\n",
       "      <td>93.0</td>\n",
       "      <td>82.0</td>\n",
       "      <td>78.0</td>\n",
       "    </tr>\n",
       "  </tbody>\n",
       "</table>\n",
       "</div>"
      ],
      "text/plain": [
       "              Sam  Jackson  Ahree  Gloria  Isla  Aron  Gray\n",
       "English      60.0     74.0   85.0     0.0   0.0   0.0   0.0\n",
       "History      65.0      0.0    0.0    83.0  78.0  72.0  61.0\n",
       "Geography     0.0     92.0   76.0    95.0  82.0  75.0   0.0\n",
       "Mathematics  99.0     89.0   85.0    74.0   0.0   0.0  95.0\n",
       "Science      89.0      0.0   87.0     0.0  93.0  82.0  78.0"
      ]
     },
     "execution_count": 31,
     "metadata": {},
     "output_type": "execute_result"
    }
   ],
   "source": [
    "panDF"
   ]
  },
  {
   "cell_type": "markdown",
   "id": "83dc8bbe",
   "metadata": {},
   "source": [
    "## Transpose the DataFrame and create a new column 'Average' and fill the values in it by calculating the average of all subjects"
   ]
  },
  {
   "cell_type": "code",
   "execution_count": 32,
   "id": "f66bafa2",
   "metadata": {},
   "outputs": [],
   "source": [
    "panDF = panDF.transpose()"
   ]
  },
  {
   "cell_type": "code",
   "execution_count": 36,
   "id": "e54f4f8b",
   "metadata": {},
   "outputs": [
    {
     "data": {
      "text/html": [
       "<div>\n",
       "<style scoped>\n",
       "    .dataframe tbody tr th:only-of-type {\n",
       "        vertical-align: middle;\n",
       "    }\n",
       "\n",
       "    .dataframe tbody tr th {\n",
       "        vertical-align: top;\n",
       "    }\n",
       "\n",
       "    .dataframe thead th {\n",
       "        text-align: right;\n",
       "    }\n",
       "</style>\n",
       "<table border=\"1\" class=\"dataframe\">\n",
       "  <thead>\n",
       "    <tr style=\"text-align: right;\">\n",
       "      <th></th>\n",
       "      <th>English</th>\n",
       "      <th>History</th>\n",
       "      <th>Geography</th>\n",
       "      <th>Mathematics</th>\n",
       "      <th>Science</th>\n",
       "      <th>Average</th>\n",
       "    </tr>\n",
       "  </thead>\n",
       "  <tbody>\n",
       "    <tr>\n",
       "      <th>Sam</th>\n",
       "      <td>60.0</td>\n",
       "      <td>65.0</td>\n",
       "      <td>0.0</td>\n",
       "      <td>99.0</td>\n",
       "      <td>89.0</td>\n",
       "      <td>62.6</td>\n",
       "    </tr>\n",
       "    <tr>\n",
       "      <th>Jackson</th>\n",
       "      <td>74.0</td>\n",
       "      <td>0.0</td>\n",
       "      <td>92.0</td>\n",
       "      <td>89.0</td>\n",
       "      <td>0.0</td>\n",
       "      <td>51.0</td>\n",
       "    </tr>\n",
       "    <tr>\n",
       "      <th>Ahree</th>\n",
       "      <td>85.0</td>\n",
       "      <td>0.0</td>\n",
       "      <td>76.0</td>\n",
       "      <td>85.0</td>\n",
       "      <td>87.0</td>\n",
       "      <td>66.6</td>\n",
       "    </tr>\n",
       "    <tr>\n",
       "      <th>Gloria</th>\n",
       "      <td>0.0</td>\n",
       "      <td>83.0</td>\n",
       "      <td>95.0</td>\n",
       "      <td>74.0</td>\n",
       "      <td>0.0</td>\n",
       "      <td>50.4</td>\n",
       "    </tr>\n",
       "    <tr>\n",
       "      <th>Isla</th>\n",
       "      <td>0.0</td>\n",
       "      <td>78.0</td>\n",
       "      <td>82.0</td>\n",
       "      <td>0.0</td>\n",
       "      <td>93.0</td>\n",
       "      <td>50.6</td>\n",
       "    </tr>\n",
       "    <tr>\n",
       "      <th>Aron</th>\n",
       "      <td>0.0</td>\n",
       "      <td>72.0</td>\n",
       "      <td>75.0</td>\n",
       "      <td>0.0</td>\n",
       "      <td>82.0</td>\n",
       "      <td>45.8</td>\n",
       "    </tr>\n",
       "    <tr>\n",
       "      <th>Gray</th>\n",
       "      <td>0.0</td>\n",
       "      <td>61.0</td>\n",
       "      <td>0.0</td>\n",
       "      <td>95.0</td>\n",
       "      <td>78.0</td>\n",
       "      <td>46.8</td>\n",
       "    </tr>\n",
       "  </tbody>\n",
       "</table>\n",
       "</div>"
      ],
      "text/plain": [
       "         English  History  Geography  Mathematics  Science  Average\n",
       "Sam         60.0     65.0        0.0         99.0     89.0     62.6\n",
       "Jackson     74.0      0.0       92.0         89.0      0.0     51.0\n",
       "Ahree       85.0      0.0       76.0         85.0     87.0     66.6\n",
       "Gloria       0.0     83.0       95.0         74.0      0.0     50.4\n",
       "Isla         0.0     78.0       82.0          0.0     93.0     50.6\n",
       "Aron         0.0     72.0       75.0          0.0     82.0     45.8\n",
       "Gray         0.0     61.0        0.0         95.0     78.0     46.8"
      ]
     },
     "execution_count": 36,
     "metadata": {},
     "output_type": "execute_result"
    }
   ],
   "source": [
    "avg = []\n",
    "for i in range(len(panDF)):\n",
    "    avg.append(panDF.iloc[i].mean())\n",
    "\n",
    "panDF[\"Average\"] = avg\n",
    "panDF"
   ]
  },
  {
   "cell_type": "markdown",
   "id": "752d20e7",
   "metadata": {},
   "source": [
    "# Question 3"
   ]
  },
  {
   "cell_type": "markdown",
   "id": "a79fb3b0",
   "metadata": {},
   "source": [
    "## Write a Python program to create a series from 1 to 1000 and select only numbers divisible by 7 and 17"
   ]
  },
  {
   "cell_type": "code",
   "execution_count": 93,
   "id": "b64125fb",
   "metadata": {},
   "outputs": [],
   "source": [
    "num = []\n",
    "\n",
    "for i in range(1, 1001):\n",
    "    if i % 7 == 0 and i % 17 == 0:\n",
    "        num.append(i)"
   ]
  },
  {
   "cell_type": "code",
   "execution_count": 95,
   "id": "3c3da668",
   "metadata": {},
   "outputs": [],
   "source": [
    "numSer = pd.Series(num)"
   ]
  },
  {
   "cell_type": "code",
   "execution_count": 96,
   "id": "66edbfe9",
   "metadata": {},
   "outputs": [
    {
     "data": {
      "text/plain": [
       "0    119\n",
       "1    238\n",
       "2    357\n",
       "3    476\n",
       "4    595\n",
       "5    714\n",
       "6    833\n",
       "7    952\n",
       "dtype: int64"
      ]
     },
     "execution_count": 96,
     "metadata": {},
     "output_type": "execute_result"
    }
   ],
   "source": [
    "numSer"
   ]
  },
  {
   "cell_type": "markdown",
   "id": "3b4ceefb",
   "metadata": {},
   "source": [
    "# Question 4"
   ]
  },
  {
   "cell_type": "markdown",
   "id": "458d3b1f",
   "metadata": {},
   "source": [
    "## Import the dataset cereal.csv"
   ]
  },
  {
   "cell_type": "code",
   "execution_count": 3,
   "id": "9d53a4b2",
   "metadata": {},
   "outputs": [],
   "source": [
    "cereal = pd.read_csv(\"cereal.csv\")"
   ]
  },
  {
   "cell_type": "code",
   "execution_count": 4,
   "id": "6aab191d",
   "metadata": {},
   "outputs": [
    {
     "data": {
      "text/html": [
       "<div>\n",
       "<style scoped>\n",
       "    .dataframe tbody tr th:only-of-type {\n",
       "        vertical-align: middle;\n",
       "    }\n",
       "\n",
       "    .dataframe tbody tr th {\n",
       "        vertical-align: top;\n",
       "    }\n",
       "\n",
       "    .dataframe thead th {\n",
       "        text-align: right;\n",
       "    }\n",
       "</style>\n",
       "<table border=\"1\" class=\"dataframe\">\n",
       "  <thead>\n",
       "    <tr style=\"text-align: right;\">\n",
       "      <th></th>\n",
       "      <th>name</th>\n",
       "      <th>mfr</th>\n",
       "      <th>type</th>\n",
       "      <th>calories</th>\n",
       "      <th>protein</th>\n",
       "      <th>fat</th>\n",
       "      <th>sodium</th>\n",
       "      <th>fiber</th>\n",
       "      <th>carbo</th>\n",
       "      <th>sugars</th>\n",
       "      <th>potass</th>\n",
       "      <th>vitamins</th>\n",
       "      <th>shelf</th>\n",
       "      <th>weight</th>\n",
       "      <th>cups</th>\n",
       "      <th>rating</th>\n",
       "    </tr>\n",
       "  </thead>\n",
       "  <tbody>\n",
       "    <tr>\n",
       "      <th>0</th>\n",
       "      <td>100% Bran</td>\n",
       "      <td>N</td>\n",
       "      <td>C</td>\n",
       "      <td>70</td>\n",
       "      <td>4</td>\n",
       "      <td>1</td>\n",
       "      <td>130</td>\n",
       "      <td>10.0</td>\n",
       "      <td>5.0</td>\n",
       "      <td>6</td>\n",
       "      <td>280.0</td>\n",
       "      <td>25</td>\n",
       "      <td>3</td>\n",
       "      <td>1.0</td>\n",
       "      <td>0.33</td>\n",
       "      <td>68.402973</td>\n",
       "    </tr>\n",
       "    <tr>\n",
       "      <th>1</th>\n",
       "      <td>100% Natural Bran</td>\n",
       "      <td>Q</td>\n",
       "      <td>C</td>\n",
       "      <td>120</td>\n",
       "      <td>3</td>\n",
       "      <td>5</td>\n",
       "      <td>15</td>\n",
       "      <td>2.0</td>\n",
       "      <td>8.0</td>\n",
       "      <td>8</td>\n",
       "      <td>135.0</td>\n",
       "      <td>0</td>\n",
       "      <td>3</td>\n",
       "      <td>1.0</td>\n",
       "      <td>1.00</td>\n",
       "      <td>33.983679</td>\n",
       "    </tr>\n",
       "    <tr>\n",
       "      <th>2</th>\n",
       "      <td>All-Bran</td>\n",
       "      <td>K</td>\n",
       "      <td>C</td>\n",
       "      <td>70</td>\n",
       "      <td>4</td>\n",
       "      <td>1</td>\n",
       "      <td>260</td>\n",
       "      <td>9.0</td>\n",
       "      <td>7.0</td>\n",
       "      <td>5</td>\n",
       "      <td>320.0</td>\n",
       "      <td>25</td>\n",
       "      <td>3</td>\n",
       "      <td>1.0</td>\n",
       "      <td>0.33</td>\n",
       "      <td>59.425505</td>\n",
       "    </tr>\n",
       "    <tr>\n",
       "      <th>3</th>\n",
       "      <td>All-Bran with Extra Fiber</td>\n",
       "      <td>K</td>\n",
       "      <td>C</td>\n",
       "      <td>50</td>\n",
       "      <td>4</td>\n",
       "      <td>0</td>\n",
       "      <td>140</td>\n",
       "      <td>14.0</td>\n",
       "      <td>8.0</td>\n",
       "      <td>0</td>\n",
       "      <td>330.0</td>\n",
       "      <td>25</td>\n",
       "      <td>3</td>\n",
       "      <td>1.0</td>\n",
       "      <td>0.50</td>\n",
       "      <td>93.704912</td>\n",
       "    </tr>\n",
       "    <tr>\n",
       "      <th>4</th>\n",
       "      <td>Almond Delight</td>\n",
       "      <td>R</td>\n",
       "      <td>C</td>\n",
       "      <td>110</td>\n",
       "      <td>2</td>\n",
       "      <td>2</td>\n",
       "      <td>200</td>\n",
       "      <td>1.0</td>\n",
       "      <td>14.0</td>\n",
       "      <td>8</td>\n",
       "      <td>NaN</td>\n",
       "      <td>25</td>\n",
       "      <td>3</td>\n",
       "      <td>1.0</td>\n",
       "      <td>0.75</td>\n",
       "      <td>34.384843</td>\n",
       "    </tr>\n",
       "  </tbody>\n",
       "</table>\n",
       "</div>"
      ],
      "text/plain": [
       "                        name mfr type  calories  protein  fat  sodium  fiber  \\\n",
       "0                  100% Bran   N    C        70        4    1     130   10.0   \n",
       "1          100% Natural Bran   Q    C       120        3    5      15    2.0   \n",
       "2                   All-Bran   K    C        70        4    1     260    9.0   \n",
       "3  All-Bran with Extra Fiber   K    C        50        4    0     140   14.0   \n",
       "4             Almond Delight   R    C       110        2    2     200    1.0   \n",
       "\n",
       "   carbo  sugars  potass  vitamins  shelf  weight  cups     rating  \n",
       "0    5.0       6   280.0        25      3     1.0  0.33  68.402973  \n",
       "1    8.0       8   135.0         0      3     1.0  1.00  33.983679  \n",
       "2    7.0       5   320.0        25      3     1.0  0.33  59.425505  \n",
       "3    8.0       0   330.0        25      3     1.0  0.50  93.704912  \n",
       "4   14.0       8     NaN        25      3     1.0  0.75  34.384843  "
      ]
     },
     "execution_count": 4,
     "metadata": {},
     "output_type": "execute_result"
    }
   ],
   "source": [
    "cereal.head()"
   ]
  },
  {
   "cell_type": "markdown",
   "id": "23c905a5",
   "metadata": {},
   "source": [
    "## Plot ratings of different types of manufacturers"
   ]
  },
  {
   "cell_type": "code",
   "execution_count": 5,
   "id": "6ff1993f",
   "metadata": {},
   "outputs": [],
   "source": [
    "import matplotlib.pyplot as plt\n",
    "import numpy as np"
   ]
  },
  {
   "cell_type": "code",
   "execution_count": 6,
   "id": "3a83fead",
   "metadata": {},
   "outputs": [],
   "source": [
    "manufacturer = []\n",
    "ratings = []\n",
    "\n",
    "for i, data in cereal.groupby(\"mfr\"):\n",
    "    manufacturer.append(i)\n",
    "    ratings.append(data[\"rating\"].mean())"
   ]
  },
  {
   "cell_type": "code",
   "execution_count": 7,
   "id": "bdaed419",
   "metadata": {
    "scrolled": true
   },
   "outputs": [
    {
     "data": {
      "image/png": "[encoded data removed]",
      "text/plain": [
       "<Figure size 432x288 with 1 Axes>"
      ]
     },
     "metadata": {
      "needs_background": "light"
     },
     "output_type": "display_data"
    }
   ],
   "source": [
    "plt.plot(manufacturer, ratings, color = \"red\")\n",
    "plt.xlabel(\"Manufacturer\", color = \"blue\", size = 15)\n",
    "plt.ylabel(\"Ratings\", color = \"blue\", size = 15)\n",
    "plt.title(\"Manufacturer Vs Ratings\", color = \"blue\", size = 17)\n",
    "plt.show()"
   ]
  },
  {
   "cell_type": "markdown",
   "id": "5228706d",
   "metadata": {},
   "source": [
    "## Use xticks range from 0-100"
   ]
  },
  {
   "cell_type": "code",
   "execution_count": 8,
   "id": "a3c65ff2",
   "metadata": {},
   "outputs": [
    {
     "data": {
      "image/png": "[encoded data removed]",
      "text/plain": [
       "<Figure size 432x288 with 1 Axes>"
      ]
     },
     "metadata": {
      "needs_background": "light"
     },
     "output_type": "display_data"
    }
   ],
   "source": [
    "plt.plot(manufacturer, ratings, color = \"red\")\n",
    "plt.xticks(range(0, 100))\n",
    "plt.xlabel(\"Manufacturer\", color = \"blue\", size = 15)\n",
    "plt.ylabel(\"Ratings\", color = \"blue\", size = 15)\n",
    "plt.title(\"Manufacturer Vs Ratings\", color = \"blue\", size = 17)\n",
    "plt.show()"
   ]
  },
  {
   "cell_type": "markdown",
   "id": "ff029f88",
   "metadata": {},
   "source": [
    "## Change the style of the graph to seaborn"
   ]
  },
  {
   "cell_type": "code",
   "execution_count": 9,
   "id": "9170aa47",
   "metadata": {},
   "outputs": [],
   "source": [
    "import seaborn as sns"
   ]
  },
  {
   "cell_type": "code",
   "execution_count": 10,
   "id": "fe2ff239",
   "metadata": {},
   "outputs": [
    {
     "data": {
      "image/png": "[encoded data removed]",
      "text/plain": [
       "<Figure size 432x288 with 1 Axes>"
      ]
     },
     "metadata": {},
     "output_type": "display_data"
    }
   ],
   "source": [
    "sns.set_theme()\n",
    "\n",
    "plt.bar(manufacturer, ratings, color = \"red\")\n",
    "plt.xlabel(\"Manufacturer\", color = \"blue\", size = 15)\n",
    "plt.ylabel(\"Ratings\", color = \"blue\", size = 15)\n",
    "plt.title(\"Manufacturer Vs Ratings\", color = \"blue\", size = 17)\n",
    "plt.show()"
   ]
  }
 ],
 "metadata": {
  "kernelspec": {
   "display_name": "Python 3 (ipykernel)",
   "language": "python",
   "name": "python3"
  },
  "language_info": {
   "codemirror_mode": {
    "name": "ipython",
    "version": 3
   },
   "file_extension": ".py",
   "mimetype": "text/x-python",
   "name": "python",
   "nbconvert_exporter": "python",
   "pygments_lexer": "ipython3",
   "version": "3.9.12"
  }
 },
 "nbformat": 4,
 "nbformat_minor": 5
}
