{
 "cells": [
  {
   "cell_type": "markdown",
   "id": "443c77ff",
   "metadata": {},
   "source": [
    "# Problem Statement 1"
   ]
  },
  {
   "cell_type": "raw",
   "id": "54aded61",
   "metadata": {},
   "source": [
    "Problem Statement 1: The data (sample) were collected in São Paulo — Brazil, in a university,\n",
    "    where there are some parties with groups of students from 18 to 28 years of age(average).\n",
    "    The dataset used for this activity has 7 attributes, being a Target, with a period of one year.\n",
    "    You have to predict the quantity of beer consumption basedon the features that contain climate conditions.\n",
    "\n",
    "Dataset Description:\n",
    "    I.Data: date of the record\n",
    "    II.Temperatura Media (C): Average temperature of the day in celsius\n",
    "    III.Temperatura Minima (C): Minimum temperature of the day in celsius\n",
    "    IV.TemperaturaMaxima (C): Maximum temperature of the day in celsius\n",
    "    V.Precipitacao (mm): Percipitation in mm\n",
    "    VI.Final de Semana: If the day is the weekend or not\n",
    "    VII.Consumo de cerveja (litros): Beer consumption in liters"
   ]
  },
  {
   "cell_type": "code",
   "execution_count": 1,
   "id": "2e1aa9e5",
   "metadata": {},
   "outputs": [],
   "source": [
    "# Import Libraries\n",
    "\n",
    "import datetime\n",
    "import pandas as pd\n",
    "import numpy as np"
   ]
  },
  {
   "cell_type": "code",
   "execution_count": 2,
   "id": "27f6e7de",
   "metadata": {},
   "outputs": [
    {
     "data": {
      "text/plain": [
       "(941, 7)"
      ]
     },
     "execution_count": 2,
     "metadata": {},
     "output_type": "execute_result"
    }
   ],
   "source": [
    "# Load the dataset, check its shape\n",
    "\n",
    "data = pd.read_csv(\"consumo_cerveja.csv\")\n",
    "data.shape"
   ]
  },
  {
   "cell_type": "code",
   "execution_count": 3,
   "id": "14ee9a5d",
   "metadata": {},
   "outputs": [],
   "source": [
    "# Rectify the data of the first four columns\n",
    "# Hint:Check columns 'Temperatura Media (C)', 'Temperatura Minima (C)', 'TemperaturaMaxima (C)', and 'Precipitac'\n",
    "# Fix the following errors present in these features\n",
    "\n",
    "data[\"Temperatura Media (C)\"] = pd.Series([float(col.replace(\",\", \".\")) for col in data[\"Temperatura Media (C)\"] if type(col) == str])\n",
    "data[\"Temperatura Minima (C)\"] = pd.Series([float(col.replace(\",\", \".\")) for col in data[\"Temperatura Minima (C)\"] if type(col) == str])\n",
    "data[\"Temperatura Maxima (C)\"] = pd.Series([float(col.replace(\",\", \".\")) for col in data[\"Temperatura Maxima (C)\"] if type(col) == str])\n",
    "data[\"Precipitacao (mm)\"] = pd.Series([float(col.replace(\",\", \".\")) for col in data[\"Precipitacao (mm)\"] if type(col) == str])"
   ]
  },
  {
   "cell_type": "code",
   "execution_count": 4,
   "id": "7d03de2a",
   "metadata": {
    "scrolled": false
   },
   "outputs": [],
   "source": [
    "# Create new features using the 'Data' feature and the make 'Data' column as index\n",
    "# Hint:Create a new feature 'Month' from the dates, consisting of the month of the year.\n",
    "#    Create a new feature 'Day' from the dates, consisting of the day of the week.\n",
    "#    Set values from the 'Data' column as indexes.\n",
    "# Use code snippet:df1.set_index('Data',inplace=True)\n",
    "\n",
    "data[\"Month\"] = pd.to_datetime(data[\"Data\"], errors = \"coerce\").dt.strftime(\"%B\")\n",
    "data[\"Day\"] = pd.to_datetime(data[\"Data\"], errors = \"coerce\").dt.strftime(\"%A\")\n",
    "data.set_index(\"Data\", inplace = True)"
   ]
  },
  {
   "cell_type": "code",
   "execution_count": 5,
   "id": "f1e15c30",
   "metadata": {},
   "outputs": [
    {
     "data": {
      "text/plain": [
       "0"
      ]
     },
     "execution_count": 5,
     "metadata": {},
     "output_type": "execute_result"
    }
   ],
   "source": [
    "# Handle null and duplicate values\n",
    "\n",
    "data = data.dropna()   # Since the rows which contain the null values are all empty rows\n",
    "data.duplicated().sum()   # No Duplicate Values"
   ]
  },
  {
   "cell_type": "code",
   "execution_count": 6,
   "id": "345df6bc",
   "metadata": {},
   "outputs": [
    {
     "data": {
      "text/plain": [
       "Temperatura Media (C)          0\n",
       "Temperatura Minima (C)         0\n",
       "Temperatura Maxima (C)         0\n",
       "Precipitacao (mm)              0\n",
       "Final de Semana                0\n",
       "Consumo de cerveja (litros)    0\n",
       "Month                          0\n",
       "Day                            0\n",
       "dtype: int64"
      ]
     },
     "execution_count": 6,
     "metadata": {},
     "output_type": "execute_result"
    }
   ],
   "source": [
    "data.isnull().sum()    # No Null Values"
   ]
  },
  {
   "cell_type": "code",
   "execution_count": 7,
   "id": "6be4312a",
   "metadata": {
    "scrolled": true
   },
   "outputs": [
    {
     "name": "stdout",
     "output_type": "stream",
     "text": [
      "<class 'pandas.core.frame.DataFrame'>\n",
      "Index: 365 entries, 2015-01-01 to 2015-12-31\n",
      "Data columns (total 8 columns):\n",
      " #   Column                       Non-Null Count  Dtype  \n",
      "---  ------                       --------------  -----  \n",
      " 0   Temperatura Media (C)        365 non-null    float64\n",
      " 1   Temperatura Minima (C)       365 non-null    float64\n",
      " 2   Temperatura Maxima (C)       365 non-null    float64\n",
      " 3   Precipitacao (mm)            365 non-null    float64\n",
      " 4   Final de Semana              365 non-null    int32  \n",
      " 5   Consumo de cerveja (litros)  365 non-null    float64\n",
      " 6   Month                        365 non-null    object \n",
      " 7   Day                          365 non-null    object \n",
      "dtypes: float64(5), int32(1), object(2)\n",
      "memory usage: 24.2+ KB\n"
     ]
    }
   ],
   "source": [
    "# Check the data type of the features and convert them to the appropriate data type\n",
    "\n",
    "data[\"Final de Semana\"] = data[\"Final de Semana\"].astype('int')   # Boolean Value but in Integer Type\n",
    "data.info()"
   ]
  },
  {
   "cell_type": "code",
   "execution_count": 8,
   "id": "a27fd442",
   "metadata": {
    "scrolled": true
   },
   "outputs": [
    {
     "data": {
      "text/plain": [
       "<AxesSubplot:xlabel='Final de Semana'>"
      ]
     },
     "execution_count": 8,
     "metadata": {},
     "output_type": "execute_result"
    },
    {
     "data": {
      "image/png": "[encoded data removed]",
      "text/plain": [
       "<Figure size 2000x400 with 5 Axes>"
      ]
     },
     "metadata": {},
     "output_type": "display_data"
    }
   ],
   "source": [
    "# Analyze features with outlier values\n",
    "\n",
    "import matplotlib.pyplot as plt\n",
    "import seaborn as sns\n",
    "\n",
    "fig, axes = plt.subplots(1, 5, figsize = (20, 4))\n",
    "\n",
    "sns.boxplot(ax = axes[0], x = data[\"Temperatura Media (C)\"])\n",
    "sns.boxplot(ax = axes[1], x = data[\"Temperatura Minima (C)\"])\n",
    "sns.boxplot(ax = axes[2], x = data[\"Temperatura Maxima (C)\"])\n",
    "sns.boxplot(ax = axes[3], x = data[\"Precipitacao (mm)\"])\n",
    "sns.boxplot(ax = axes[4], x = data[\"Final de Semana\"])\n",
    "\n",
    "# The below Plots show the outliers in the 3rd and 4th figures and are shown with the points other than the boxplots."
   ]
  },
  {
   "cell_type": "code",
   "execution_count": 9,
   "id": "4407cd90",
   "metadata": {},
   "outputs": [
    {
     "data": {
      "image/png": "[encoded data removed]",
      "text/plain": [
       "<Figure size 2000x400 with 5 Axes>"
      ]
     },
     "metadata": {},
     "output_type": "display_data"
    }
   ],
   "source": [
    "# Plot and analyze the correlation\n",
    "\n",
    "fig, axes = plt.subplots(1, 5, figsize = (20, 4))\n",
    "\n",
    "data.plot(ax = axes[0], x = \"Temperatura Media (C)\", y = \"Consumo de cerveja (litros)\", kind = \"scatter\")\n",
    "data.plot(ax = axes[1], x = \"Temperatura Minima (C)\", y = \"Consumo de cerveja (litros)\", kind = \"scatter\")\n",
    "data.plot(ax = axes[2], x = \"Temperatura Maxima (C)\", y = \"Consumo de cerveja (litros)\", kind = \"scatter\")\n",
    "data.plot(ax = axes[3], x = \"Precipitacao (mm)\", y = \"Consumo de cerveja (litros)\", kind = \"scatter\")\n",
    "data.plot(ax = axes[4], x = \"Final de Semana\", y = \"Consumo de cerveja (litros)\", kind = \"scatter\")\n",
    "plt.show()\n",
    "\n",
    "# A Positive Correlation exists between the Temperature Media (C), Temperature Minima (C), Temperature Maxima (C)\n",
    "# and the Consumo de cerveja (litros)"
   ]
  },
  {
   "cell_type": "code",
   "execution_count": 10,
   "id": "e20cb78a",
   "metadata": {},
   "outputs": [],
   "source": [
    "# Split the dataset for training and testing\n",
    "\n",
    "from sklearn.model_selection import train_test_split\n",
    "\n",
    "X = data.iloc[:, :5]\n",
    "y = data[\"Consumo de cerveja (litros)\"]\n",
    "\n",
    "X_train, X_test, y_train, y_test = train_test_split(X, y, test_size = 0.20, random_state = 0)"
   ]
  },
  {
   "cell_type": "code",
   "execution_count": 11,
   "id": "8492633f",
   "metadata": {},
   "outputs": [
    {
     "name": "stdout",
     "output_type": "stream",
     "text": [
      "Coefficient:  [-0.02966412  0.02410024  0.66705013 -0.05528092  5.08050445]\n",
      "Intercept:  6.63209238348113\n"
     ]
    }
   ],
   "source": [
    "# Train a linear regression model and print the intercept and coefficients\n",
    "\n",
    "from sklearn.linear_model import LinearRegression\n",
    "\n",
    "lr = LinearRegression()\n",
    "lr.fit(X_train, y_train)\n",
    "\n",
    "print(\"Coefficient: \", lr.coef_)\n",
    "print(\"Intercept: \", lr.intercept_)"
   ]
  },
  {
   "cell_type": "code",
   "execution_count": 12,
   "id": "c87ab1c5",
   "metadata": {},
   "outputs": [
    {
     "name": "stdout",
     "output_type": "stream",
     "text": [
      "R2 Score:  0.661518352682603\n",
      "Mean Absolute Error:  2.117193986230358\n",
      "Root Mean Squared Error:  2.450708910488736\n"
     ]
    }
   ],
   "source": [
    "# Evaluate the model using the R2 score, mean absolute error, and root mean squared error\n",
    "\n",
    "from sklearn.metrics import r2_score, mean_absolute_error, mean_squared_error\n",
    "import math\n",
    "\n",
    "y_pred = lr.predict(X_test)\n",
    "\n",
    "print(\"R2 Score: \", r2_score(y_test, y_pred))\n",
    "print(\"Mean Absolute Error: \", mean_absolute_error(y_test, y_pred))\n",
    "print(\"Root Mean Squared Error: \", math.sqrt(mean_squared_error(y_test, y_pred)))"
   ]
  },
  {
   "cell_type": "markdown",
   "id": "2b68a429",
   "metadata": {},
   "source": [
    "# Problem Statement 2"
   ]
  },
  {
   "cell_type": "raw",
   "id": "79b05eb7",
   "metadata": {},
   "source": [
    "Problem Statement 2:You are provided with the California housing dataset.\n",
    "    Based on the given parameters of a house, predict its price.Dataset\n",
    "Description:The dataset contains nine features:\n",
    "        I.longitude: A measure of how far west a house is; a higher value is farther west\n",
    "        II.latitude: A measure of how far north a house is; a higher value is farther north\n",
    "        III.housingMedianAge: Median age of a house within a block; a lower number is a newer building\n",
    "        IV.total rooms: Total number of rooms within a block\n",
    "        V.total bedrooms: Total number of bedrooms within a block\n",
    "        VI.population: Total number of people residing within a block\n",
    "        VII.households: Total number of households, a group of people residing within a home unit, for a block\n",
    "        VIII.median income: Median income for households within a block of houses (measured in tens of thousands of US Dollars)\n",
    "        IX.median house value:Median house value for households within a block (measured in US Dollars)"
   ]
  },
  {
   "cell_type": "code",
   "execution_count": 13,
   "id": "e9e14f5c",
   "metadata": {},
   "outputs": [
    {
     "name": "stdout",
     "output_type": "stream",
     "text": [
      "Shape:  (17000, 9)\n",
      "\n",
      "-----Null Values Count-----\n"
     ]
    },
    {
     "data": {
      "text/plain": [
       "longitude             0\n",
       "latitude              0\n",
       "housing_median_age    0\n",
       "total_rooms           0\n",
       "total_bedrooms        0\n",
       "population            0\n",
       "households            0\n",
       "median_income         0\n",
       "median_house_value    0\n",
       "dtype: int64"
      ]
     },
     "execution_count": 13,
     "metadata": {},
     "output_type": "execute_result"
    }
   ],
   "source": [
    "# Load the data, check its shape and check for null values\n",
    "\n",
    "house = pd.read_csv(\"california_housing_train.csv\")\n",
    "print(\"Shape: \", house.shape)\n",
    "print(\"\\n-----Null Values Count-----\")\n",
    "house.isnull().sum()"
   ]
  },
  {
   "cell_type": "code",
   "execution_count": 14,
   "id": "163021c5",
   "metadata": {},
   "outputs": [],
   "source": [
    "# Split the dataset for training and testing -1000 instances for testing\n",
    "\n",
    "from sklearn.model_selection import train_test_split\n",
    "\n",
    "X = house.iloc[:, :-1]\n",
    "y = house[\"median_house_value\"]\n",
    "X_train, X_test, y_train, y_test = train_test_split(X, y, test_size = 1000, random_state=0)"
   ]
  },
  {
   "cell_type": "code",
   "execution_count": 15,
   "id": "05dc8540",
   "metadata": {},
   "outputs": [
    {
     "data": {
      "text/plain": [
       "LinearRegression()"
      ]
     },
     "execution_count": 15,
     "metadata": {},
     "output_type": "execute_result"
    }
   ],
   "source": [
    "# Train the model using sklearn (Apply linear regression to train a model for prediction)\n",
    "\n",
    "from sklearn.linear_model import LinearRegression\n",
    "\n",
    "lr = LinearRegression()\n",
    "lr.fit(X_train, y_train)"
   ]
  },
  {
   "cell_type": "code",
   "execution_count": 16,
   "id": "50922f9c",
   "metadata": {},
   "outputs": [
    {
     "name": "stdout",
     "output_type": "stream",
     "text": [
      "R2 Score:  0.6140658023056096\n",
      "Mean Absolute Error:  52417.58551295807\n"
     ]
    }
   ],
   "source": [
    "# Predict the prices on test data and evaluate the modelby r2 score and mean absolute error\n",
    "\n",
    "from sklearn.metrics import r2_score, mean_absolute_error\n",
    "\n",
    "y_pred = lr.predict(X_test)\n",
    "\n",
    "print(\"R2 Score: \", r2_score(y_test, y_pred))\n",
    "print(\"Mean Absolute Error: \", mean_absolute_error(y_test, y_pred))"
   ]
  },
  {
   "cell_type": "code",
   "execution_count": 17,
   "id": "d5b164de",
   "metadata": {},
   "outputs": [
    {
     "name": "stdout",
     "output_type": "stream",
     "text": [
      "Coefficient:  [-4.30861845e+04 -4.28117411e+04  1.17167793e+03 -8.76656690e+00\n",
      "  1.20394389e+02 -3.74535982e+01  4.17800068e+01  4.06517876e+04]\n",
      "Intercept:  -3619591.677536837\n"
     ]
    }
   ],
   "source": [
    "# Find coefficient and intercept using the trained model\n",
    "\n",
    "print(\"Coefficient: \", lr.coef_)\n",
    "print(\"Intercept: \", lr.intercept_)"
   ]
  },
  {
   "cell_type": "markdown",
   "id": "f974fa9c",
   "metadata": {},
   "source": [
    "# Problem Statement 3"
   ]
  },
  {
   "cell_type": "raw",
   "id": "b7565609",
   "metadata": {},
   "source": [
    "Problem Statement 3:You are provided with the medical cost dataset.\n",
    "    You need to predict individual medical costs billed by health insurance.\n",
    "Dataset Description:\n",
    "    I.age: age of the primary beneficiary\n",
    "    II.sex: gender of primary beneficiary female, male\n",
    "    III.bmi: Body mass index, providing an understanding of the body, weights that are relatively high or \n",
    "        low relative to height, an objective index of body\n",
    "    IV.weight (kg / m ^ 2) using the ratio of height to weight, ideally 18.5 to 24.9\n",
    "    V.children: Number of children covered by health insurance / Number of dependents\n",
    "    VI.smoker: Smokes or not\n",
    "    VII.region: the beneficiary's residential area in the US, northeast, southeast, southwest, northwest\n",
    "    VIII.charges: Individual medical costs billed by health insurance"
   ]
  },
  {
   "cell_type": "code",
   "execution_count": 18,
   "id": "9580d2f1",
   "metadata": {},
   "outputs": [
    {
     "name": "stdout",
     "output_type": "stream",
     "text": [
      "Shape:  (1338, 7)\n",
      "-----Null Values Count-----\n"
     ]
    },
    {
     "data": {
      "text/plain": [
       "age         0\n",
       "sex         0\n",
       "bmi         0\n",
       "children    0\n",
       "smoker      0\n",
       "region      0\n",
       "charges     0\n",
       "dtype: int64"
      ]
     },
     "execution_count": 18,
     "metadata": {},
     "output_type": "execute_result"
    }
   ],
   "source": [
    "# Load the data, check its shape and check for null values\n",
    "\n",
    "insurance = pd.read_csv(\"insurance.csv\")\n",
    "print(\"Shape: \", insurance.shape)\n",
    "print(\"-----Null Values Count-----\")\n",
    "insurance.isnull().sum()"
   ]
  },
  {
   "cell_type": "code",
   "execution_count": 19,
   "id": "ee2ab59e",
   "metadata": {},
   "outputs": [],
   "source": [
    "# Convert categorical features to numerical values (Use One-Hot Encoding)\n",
    "\n",
    "from sklearn.preprocessing import OneHotEncoder\n",
    "ohe = OneHotEncoder()\n",
    "\n",
    "insurance.iloc[:, 1:2] = pd.DataFrame(ohe.fit_transform(insurance.iloc[:, 1:2]).toarray()).astype('int')\n",
    "insurance.iloc[:, 4:5] = pd.DataFrame(ohe.fit_transform(insurance.iloc[:, 4:5]).toarray()).astype('int')\n",
    "insurance.iloc[:, 5:6] = pd.DataFrame(ohe.fit_transform(insurance.iloc[:, 5:6]).toarray()).astype('int')"
   ]
  },
  {
   "cell_type": "code",
   "execution_count": 20,
   "id": "0669f5b4",
   "metadata": {},
   "outputs": [],
   "source": [
    "# Split the dataset for training and testing\n",
    "\n",
    "from sklearn.model_selection import train_test_split\n",
    "\n",
    "X = insurance.iloc[:, :-1]\n",
    "y = insurance[\"charges\"]\n",
    "X_train, X_test, y_train, y_test = train_test_split(X, y, test_size = 0.20, random_state=0)"
   ]
  },
  {
   "cell_type": "code",
   "execution_count": 21,
   "id": "d20210d4",
   "metadata": {},
   "outputs": [
    {
     "data": {
      "text/plain": [
       "LinearRegression()"
      ]
     },
     "execution_count": 21,
     "metadata": {},
     "output_type": "execute_result"
    }
   ],
   "source": [
    "# Train the model using sklearn – Linear Regression\n",
    "\n",
    "from sklearn.linear_model import LinearRegression\n",
    "\n",
    "lr = LinearRegression()\n",
    "lr.fit(X_train, y_train)"
   ]
  },
  {
   "cell_type": "code",
   "execution_count": 22,
   "id": "07c9fe90",
   "metadata": {},
   "outputs": [
    {
     "name": "stdout",
     "output_type": "stream",
     "text": [
      "Coefficient:  [   254.06084024     25.01859097    326.4820378     435.7147728\n",
      " -23581.38687197    643.04492494]\n",
      "Intercept:  11359.630755303451\n"
     ]
    }
   ],
   "source": [
    "# Find the intercept and coefficient from the trained model\n",
    "\n",
    "print(\"Coefficient: \", lr.coef_)\n",
    "print(\"Intercept: \", lr.intercept_)"
   ]
  },
  {
   "cell_type": "code",
   "execution_count": 23,
   "id": "96d68aa8",
   "metadata": {},
   "outputs": [
    {
     "name": "stdout",
     "output_type": "stream",
     "text": [
      "R2 Score:  0.7993149430815581\n",
      "Mean Absolute Error:  3917.4664698330835\n"
     ]
    }
   ],
   "source": [
    "# Predict the prices of test data and evaluate the model using calculated r2 score and root mean squared error\n",
    "\n",
    "from sklearn.metrics import r2_score, mean_absolute_error\n",
    "\n",
    "y_pred = lr.predict(X_test)\n",
    "\n",
    "print(\"R2 Score: \", r2_score(y_test, y_pred))\n",
    "print(\"Mean Absolute Error: \", mean_absolute_error(y_test, y_pred))"
   ]
  },
  {
   "cell_type": "markdown",
   "id": "8973cd11",
   "metadata": {},
   "source": [
    "# Problem Statement 4"
   ]
  },
  {
   "cell_type": "raw",
   "id": "6cd628ad",
   "metadata": {},
   "source": [
    "Problem Statement 4: You are provided with the '50_Startups' data.\n",
    "    Using the given features, you must predict the profit of these startups.\n",
    "Dataset Description:\n",
    "    I.R&D Spend: Expenditures in Research and Development\n",
    "    II.Administration: Expenditures in Administration\n",
    "    III.Marketing Spend: Expenditures in Marketing\n",
    "    IV.State: In which state the company belongs to\n",
    "    V.Profit: The profit made by the company"
   ]
  },
  {
   "cell_type": "code",
   "execution_count": 24,
   "id": "b5aa55b8",
   "metadata": {},
   "outputs": [
    {
     "name": "stdout",
     "output_type": "stream",
     "text": [
      "Shape:  (50, 5)\n",
      "-----Null Values Count-----\n"
     ]
    },
    {
     "data": {
      "text/plain": [
       "R&D Spend          0\n",
       "Administration     0\n",
       "Marketing Spend    0\n",
       "State              0\n",
       "Profit             0\n",
       "dtype: int64"
      ]
     },
     "execution_count": 24,
     "metadata": {},
     "output_type": "execute_result"
    }
   ],
   "source": [
    "# Load the data, check its shape and check for null values\n",
    "\n",
    "start = pd.read_csv(\"50_Startups.csv\")\n",
    "\n",
    "print(\"Shape: \", start.shape)\n",
    "print(\"-----Null Values Count-----\")\n",
    "start.isnull().sum()"
   ]
  },
  {
   "cell_type": "code",
   "execution_count": 25,
   "id": "0fb45f2d",
   "metadata": {},
   "outputs": [],
   "source": [
    "# Convert categorical features to numerical values using Label Encoder\n",
    "\n",
    "from sklearn.preprocessing import OneHotEncoder\n",
    "ohe = OneHotEncoder()\n",
    "\n",
    "start.iloc[:, 3:4] = pd.DataFrame(ohe.fit_transform(start.iloc[:, 3:4]).toarray()).astype('int')"
   ]
  },
  {
   "cell_type": "code",
   "execution_count": 26,
   "id": "1b5c5f78",
   "metadata": {},
   "outputs": [],
   "source": [
    "# Split the dataset for training and testing\n",
    "\n",
    "from sklearn.model_selection import train_test_split\n",
    "\n",
    "X = start.iloc[:, :-1]\n",
    "y = start[\"Profit\"]\n",
    "X_train, X_test, y_train, y_test = train_test_split(X, y, test_size = 0.20, random_state=0)"
   ]
  },
  {
   "cell_type": "code",
   "execution_count": 27,
   "id": "db92cf0f",
   "metadata": {},
   "outputs": [
    {
     "name": "stdout",
     "output_type": "stream",
     "text": [
      "Coefficient:  [ 0.77883396  0.02939405  0.03470854 -5.75221572]\n",
      "Intercept:  42991.897811576666\n"
     ]
    }
   ],
   "source": [
    "# Train the model using sklearn(linear regression), also find the intercept and coefficient from the trained model\n",
    "\n",
    "from sklearn.linear_model import LinearRegression\n",
    "\n",
    "lr = LinearRegression()\n",
    "lr.fit(X_train, y_train)\n",
    "print(\"Coefficient: \", lr.coef_)\n",
    "print(\"Intercept: \", lr.intercept_)"
   ]
  },
  {
   "cell_type": "code",
   "execution_count": 28,
   "id": "b36646d6",
   "metadata": {},
   "outputs": [
    {
     "name": "stdout",
     "output_type": "stream",
     "text": [
      "R2 Score:  0.9359143665961587\n",
      "Mean Absolute Error:  7321.0581062232595\n"
     ]
    }
   ],
   "source": [
    "# Predict the profits of test data and evaluate the model using r2 score and mean squared error\n",
    "\n",
    "from sklearn.metrics import r2_score, mean_absolute_error\n",
    "\n",
    "y_pred = lr.predict(X_test)\n",
    "\n",
    "print(\"R2 Score: \", r2_score(y_pred, y_test))\n",
    "print(\"Mean Absolute Error: \", mean_absolute_error(y_pred, y_test))"
   ]
  },
  {
   "cell_type": "code",
   "execution_count": 29,
   "id": "62e77b3b",
   "metadata": {},
   "outputs": [
    {
     "data": {
      "text/plain": [
       "0.9393967031459635"
      ]
     },
     "execution_count": 29,
     "metadata": {},
     "output_type": "execute_result"
    }
   ],
   "source": [
    "# Regularize the model using Ridge Regression and find the Score\n",
    "\n",
    "from sklearn.linear_model import Ridge\n",
    "\n",
    "rr = Ridge(alpha=1)\n",
    "rr.fit(X_train, y_train)\n",
    "\n",
    "rr.score(X_test, y_test)"
   ]
  },
  {
   "cell_type": "code",
   "execution_count": 30,
   "id": "4c3de032",
   "metadata": {},
   "outputs": [
    {
     "data": {
      "text/plain": [
       "0.939395904669798"
      ]
     },
     "execution_count": 30,
     "metadata": {},
     "output_type": "execute_result"
    }
   ],
   "source": [
    "# Regularize the model using Lasso Regression and find the Score\n",
    "\n",
    "from sklearn.linear_model import Lasso\n",
    "\n",
    "ll = Lasso(alpha = 1)\n",
    "ll.fit(X_train, y_train)\n",
    "\n",
    "ll.score(X_test, y_test)"
   ]
  }
 ],
 "metadata": {
  "kernelspec": {
   "display_name": "Python 3 (ipykernel)",
   "language": "python",
   "name": "python3"
  },
  "language_info": {
   "codemirror_mode": {
    "name": "ipython",
    "version": 3
   },
   "file_extension": ".py",
   "mimetype": "text/x-python",
   "name": "python",
   "nbconvert_exporter": "python",
   "pygments_lexer": "ipython3",
   "version": "3.9.12"
  }
 },
 "nbformat": 4,
 "nbformat_minor": 5
}
