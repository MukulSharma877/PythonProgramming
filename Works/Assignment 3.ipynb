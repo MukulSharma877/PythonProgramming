{
 "cells": [
  {
   "cell_type": "markdown",
   "id": "5ee9ec3c",
   "metadata": {},
   "source": [
    "# Problem Statement 1"
   ]
  },
  {
   "cell_type": "markdown",
   "id": "1b6bbe90",
   "metadata": {},
   "source": [
    "## 1. Read an integer input that specifies the number of highly satisfied customers"
   ]
  },
  {
   "cell_type": "code",
   "execution_count": 22,
   "id": "3a6a47ad",
   "metadata": {
    "scrolled": true
   },
   "outputs": [
    {
     "name": "stdout",
     "output_type": "stream",
     "text": [
      "Enter the numnber of highly satisfied customers: 56\n"
     ]
    }
   ],
   "source": [
    "hsc = int(input(\"Enter the numnber of highly satisfied customers: \"))"
   ]
  },
  {
   "cell_type": "markdown",
   "id": "f27d7993",
   "metadata": {},
   "source": [
    "## 2. Calculate an approximate 90% confidence interval for the proportion of the loan customers who are highly satisfied with disbursal time"
   ]
  },
  {
   "cell_type": "code",
   "execution_count": 105,
   "id": "2becfc26",
   "metadata": {},
   "outputs": [
    {
     "name": "stdout",
     "output_type": "stream",
     "text": [
      "90.68792 111.27636\n"
     ]
    }
   ],
   "source": [
    "import numpy as np\n",
    "import scipy.stats as st\n",
    "\n",
    "data = np.random.randint(1, 200, hsc)\n",
    "\n",
    "DMean = np.mean(data)\n",
    "SEM = st.sem(data)\n",
    "\n",
    "critical = st.norm.ppf(0.90)\n",
    "MError = critical * SEM\n",
    "\n",
    "print(round(DMean - MError, 5), round(DMean + MError, 5))"
   ]
  },
  {
   "cell_type": "markdown",
   "id": "6d319347",
   "metadata": {},
   "source": [
    "# Problem Statement 2"
   ]
  },
  {
   "cell_type": "code",
   "execution_count": 32,
   "id": "b2373e74",
   "metadata": {},
   "outputs": [],
   "source": [
    "# A radar unit is used to measure the speeds of cars on a motorway.\n",
    "# The speeds are normally distributed with a mean of 75 km/hr and a standard deviation of 15 km/hr"
   ]
  },
  {
   "cell_type": "markdown",
   "id": "bdf0a400",
   "metadata": {},
   "source": [
    "## 1. Find the probability that a car picked at random is traveling at more than X km/hr"
   ]
  },
  {
   "cell_type": "code",
   "execution_count": 43,
   "id": "d5f9581d",
   "metadata": {},
   "outputs": [
    {
     "name": "stdout",
     "output_type": "stream",
     "text": [
      "Enter the Speed in km/hr: 75\n"
     ]
    }
   ],
   "source": [
    "X = int(input(\"Enter the Speed in km/hr: \"))"
   ]
  },
  {
   "cell_type": "code",
   "execution_count": 45,
   "id": "d718333a",
   "metadata": {},
   "outputs": [
    {
     "name": "stdout",
     "output_type": "stream",
     "text": [
      "0.0266\n"
     ]
    }
   ],
   "source": [
    "print(round(st.norm(75, 15).pdf(X), 4))  #pdf -> Probability Density Function"
   ]
  },
  {
   "cell_type": "markdown",
   "id": "eb14f39d",
   "metadata": {},
   "source": [
    "# Problem Statement 3"
   ]
  },
  {
   "cell_type": "code",
   "execution_count": 46,
   "id": "79bd322d",
   "metadata": {},
   "outputs": [],
   "source": [
    "# Write a Python program toload the “kerala.csv”data into a DataFrameand perform the following tasks"
   ]
  },
  {
   "cell_type": "code",
   "execution_count": 47,
   "id": "09ecd53b",
   "metadata": {},
   "outputs": [],
   "source": [
    "import pandas as pd"
   ]
  },
  {
   "cell_type": "code",
   "execution_count": 48,
   "id": "8c730290",
   "metadata": {},
   "outputs": [],
   "source": [
    "kerala = pd.read_csv(\"kerala.csv\")"
   ]
  },
  {
   "cell_type": "markdown",
   "id": "9c9d57b9",
   "metadata": {},
   "source": [
    "## 1. Explore the DataFrame using info() and describe() functions"
   ]
  },
  {
   "cell_type": "code",
   "execution_count": 49,
   "id": "11767dae",
   "metadata": {},
   "outputs": [
    {
     "name": "stdout",
     "output_type": "stream",
     "text": [
      "<class 'pandas.core.frame.DataFrame'>\n",
      "RangeIndex: 118 entries, 0 to 117\n",
      "Data columns (total 16 columns):\n",
      " #   Column            Non-Null Count  Dtype  \n",
      "---  ------            --------------  -----  \n",
      " 0   SUBDIVISION       118 non-null    object \n",
      " 1   YEAR              118 non-null    int64  \n",
      " 2   JAN               118 non-null    float64\n",
      " 3   FEB               118 non-null    float64\n",
      " 4   MAR               118 non-null    float64\n",
      " 5   APR               118 non-null    float64\n",
      " 6   MAY               118 non-null    float64\n",
      " 7   JUN               118 non-null    float64\n",
      " 8   JUL               118 non-null    float64\n",
      " 9   AUG               118 non-null    float64\n",
      " 10  SEP               118 non-null    float64\n",
      " 11  OCT               118 non-null    float64\n",
      " 12  NOV               118 non-null    float64\n",
      " 13  DEC               118 non-null    float64\n",
      " 14   ANNUAL RAINFALL  118 non-null    float64\n",
      " 15  FLOODS            118 non-null    object \n",
      "dtypes: float64(13), int64(1), object(2)\n",
      "memory usage: 14.9+ KB\n"
     ]
    }
   ],
   "source": [
    "kerala.info()"
   ]
  },
  {
   "cell_type": "code",
   "execution_count": 50,
   "id": "d843d7bd",
   "metadata": {},
   "outputs": [
    {
     "data": {
      "text/html": [
       "<div>\n",
       "<style scoped>\n",
       "    .dataframe tbody tr th:only-of-type {\n",
       "        vertical-align: middle;\n",
       "    }\n",
       "\n",
       "    .dataframe tbody tr th {\n",
       "        vertical-align: top;\n",
       "    }\n",
       "\n",
       "    .dataframe thead th {\n",
       "        text-align: right;\n",
       "    }\n",
       "</style>\n",
       "<table border=\"1\" class=\"dataframe\">\n",
       "  <thead>\n",
       "    <tr style=\"text-align: right;\">\n",
       "      <th></th>\n",
       "      <th>YEAR</th>\n",
       "      <th>JAN</th>\n",
       "      <th>FEB</th>\n",
       "      <th>MAR</th>\n",
       "      <th>APR</th>\n",
       "      <th>MAY</th>\n",
       "      <th>JUN</th>\n",
       "      <th>JUL</th>\n",
       "      <th>AUG</th>\n",
       "      <th>SEP</th>\n",
       "      <th>OCT</th>\n",
       "      <th>NOV</th>\n",
       "      <th>DEC</th>\n",
       "      <th>ANNUAL RAINFALL</th>\n",
       "    </tr>\n",
       "  </thead>\n",
       "  <tbody>\n",
       "    <tr>\n",
       "      <th>count</th>\n",
       "      <td>118.000000</td>\n",
       "      <td>118.000000</td>\n",
       "      <td>118.000000</td>\n",
       "      <td>118.000000</td>\n",
       "      <td>118.000000</td>\n",
       "      <td>118.000000</td>\n",
       "      <td>118.000000</td>\n",
       "      <td>118.000000</td>\n",
       "      <td>118.000000</td>\n",
       "      <td>118.000000</td>\n",
       "      <td>118.000000</td>\n",
       "      <td>118.000000</td>\n",
       "      <td>118.000000</td>\n",
       "      <td>118.000000</td>\n",
       "    </tr>\n",
       "    <tr>\n",
       "      <th>mean</th>\n",
       "      <td>1959.500000</td>\n",
       "      <td>12.218644</td>\n",
       "      <td>15.633898</td>\n",
       "      <td>36.670339</td>\n",
       "      <td>110.330508</td>\n",
       "      <td>228.644915</td>\n",
       "      <td>651.617797</td>\n",
       "      <td>698.220339</td>\n",
       "      <td>430.369492</td>\n",
       "      <td>246.207627</td>\n",
       "      <td>293.207627</td>\n",
       "      <td>162.311017</td>\n",
       "      <td>40.009322</td>\n",
       "      <td>2925.405085</td>\n",
       "    </tr>\n",
       "    <tr>\n",
       "      <th>std</th>\n",
       "      <td>34.207699</td>\n",
       "      <td>15.473766</td>\n",
       "      <td>16.406290</td>\n",
       "      <td>30.063862</td>\n",
       "      <td>44.633452</td>\n",
       "      <td>147.548778</td>\n",
       "      <td>186.181363</td>\n",
       "      <td>228.988966</td>\n",
       "      <td>181.980463</td>\n",
       "      <td>121.901131</td>\n",
       "      <td>93.705253</td>\n",
       "      <td>83.200485</td>\n",
       "      <td>36.676330</td>\n",
       "      <td>452.169407</td>\n",
       "    </tr>\n",
       "    <tr>\n",
       "      <th>min</th>\n",
       "      <td>1901.000000</td>\n",
       "      <td>0.000000</td>\n",
       "      <td>0.000000</td>\n",
       "      <td>0.100000</td>\n",
       "      <td>13.100000</td>\n",
       "      <td>53.400000</td>\n",
       "      <td>196.800000</td>\n",
       "      <td>167.500000</td>\n",
       "      <td>178.600000</td>\n",
       "      <td>41.300000</td>\n",
       "      <td>68.500000</td>\n",
       "      <td>31.500000</td>\n",
       "      <td>0.100000</td>\n",
       "      <td>2068.800000</td>\n",
       "    </tr>\n",
       "    <tr>\n",
       "      <th>25%</th>\n",
       "      <td>1930.250000</td>\n",
       "      <td>2.175000</td>\n",
       "      <td>4.700000</td>\n",
       "      <td>18.100000</td>\n",
       "      <td>74.350000</td>\n",
       "      <td>125.050000</td>\n",
       "      <td>535.550000</td>\n",
       "      <td>533.200000</td>\n",
       "      <td>316.725000</td>\n",
       "      <td>155.425000</td>\n",
       "      <td>222.125000</td>\n",
       "      <td>93.025000</td>\n",
       "      <td>10.350000</td>\n",
       "      <td>2613.525000</td>\n",
       "    </tr>\n",
       "    <tr>\n",
       "      <th>50%</th>\n",
       "      <td>1959.500000</td>\n",
       "      <td>5.800000</td>\n",
       "      <td>8.350000</td>\n",
       "      <td>28.400000</td>\n",
       "      <td>110.400000</td>\n",
       "      <td>184.600000</td>\n",
       "      <td>625.600000</td>\n",
       "      <td>691.650000</td>\n",
       "      <td>386.250000</td>\n",
       "      <td>223.550000</td>\n",
       "      <td>284.300000</td>\n",
       "      <td>152.450000</td>\n",
       "      <td>31.100000</td>\n",
       "      <td>2934.300000</td>\n",
       "    </tr>\n",
       "    <tr>\n",
       "      <th>75%</th>\n",
       "      <td>1988.750000</td>\n",
       "      <td>18.175000</td>\n",
       "      <td>21.400000</td>\n",
       "      <td>49.825000</td>\n",
       "      <td>136.450000</td>\n",
       "      <td>264.875000</td>\n",
       "      <td>786.975000</td>\n",
       "      <td>832.425000</td>\n",
       "      <td>500.100000</td>\n",
       "      <td>334.500000</td>\n",
       "      <td>355.150000</td>\n",
       "      <td>218.325000</td>\n",
       "      <td>54.025000</td>\n",
       "      <td>3170.400000</td>\n",
       "    </tr>\n",
       "    <tr>\n",
       "      <th>max</th>\n",
       "      <td>2018.000000</td>\n",
       "      <td>83.500000</td>\n",
       "      <td>79.000000</td>\n",
       "      <td>217.200000</td>\n",
       "      <td>238.000000</td>\n",
       "      <td>738.800000</td>\n",
       "      <td>1098.200000</td>\n",
       "      <td>1526.500000</td>\n",
       "      <td>1398.900000</td>\n",
       "      <td>526.700000</td>\n",
       "      <td>567.900000</td>\n",
       "      <td>365.600000</td>\n",
       "      <td>202.300000</td>\n",
       "      <td>4473.000000</td>\n",
       "    </tr>\n",
       "  </tbody>\n",
       "</table>\n",
       "</div>"
      ],
      "text/plain": [
       "              YEAR         JAN         FEB         MAR         APR  \\\n",
       "count   118.000000  118.000000  118.000000  118.000000  118.000000   \n",
       "mean   1959.500000   12.218644   15.633898   36.670339  110.330508   \n",
       "std      34.207699   15.473766   16.406290   30.063862   44.633452   \n",
       "min    1901.000000    0.000000    0.000000    0.100000   13.100000   \n",
       "25%    1930.250000    2.175000    4.700000   18.100000   74.350000   \n",
       "50%    1959.500000    5.800000    8.350000   28.400000  110.400000   \n",
       "75%    1988.750000   18.175000   21.400000   49.825000  136.450000   \n",
       "max    2018.000000   83.500000   79.000000  217.200000  238.000000   \n",
       "\n",
       "              MAY          JUN          JUL          AUG         SEP  \\\n",
       "count  118.000000   118.000000   118.000000   118.000000  118.000000   \n",
       "mean   228.644915   651.617797   698.220339   430.369492  246.207627   \n",
       "std    147.548778   186.181363   228.988966   181.980463  121.901131   \n",
       "min     53.400000   196.800000   167.500000   178.600000   41.300000   \n",
       "25%    125.050000   535.550000   533.200000   316.725000  155.425000   \n",
       "50%    184.600000   625.600000   691.650000   386.250000  223.550000   \n",
       "75%    264.875000   786.975000   832.425000   500.100000  334.500000   \n",
       "max    738.800000  1098.200000  1526.500000  1398.900000  526.700000   \n",
       "\n",
       "              OCT         NOV         DEC   ANNUAL RAINFALL  \n",
       "count  118.000000  118.000000  118.000000        118.000000  \n",
       "mean   293.207627  162.311017   40.009322       2925.405085  \n",
       "std     93.705253   83.200485   36.676330        452.169407  \n",
       "min     68.500000   31.500000    0.100000       2068.800000  \n",
       "25%    222.125000   93.025000   10.350000       2613.525000  \n",
       "50%    284.300000  152.450000   31.100000       2934.300000  \n",
       "75%    355.150000  218.325000   54.025000       3170.400000  \n",
       "max    567.900000  365.600000  202.300000       4473.000000  "
      ]
     },
     "execution_count": 50,
     "metadata": {},
     "output_type": "execute_result"
    }
   ],
   "source": [
    "kerala.describe()"
   ]
  },
  {
   "cell_type": "markdown",
   "id": "b77ac713",
   "metadata": {},
   "source": [
    "## 2. June and July are the peak months of rainfall. Consider that if it rains more than 500mm, then chances of flood become more; create a Datarame with columns –“YEAR”,  “JUN_GT_500”, “JUL_GT_500”,and “FLOODS”"
   ]
  },
  {
   "cell_type": "code",
   "execution_count": 60,
   "id": "274840b0",
   "metadata": {},
   "outputs": [],
   "source": [
    "jun_gt_500 = [int(kerala.JUN[i] >  500) for i in range(len(kerala.JUN))]\n",
    "jul_gt_500 = [int(kerala.JUL[i] >  500) for i in range(len(kerala.JUL))]\n",
    "floods = [int(i == \"YES\") for i in kerala.FLOODS]\n",
    "\n",
    "df = pd.DataFrame({\"YEAR\" : kerala.YEAR, \"JUN_GT_500\" : jun_gt_500, \"JUL_GT_500\" : jul_gt_500, \"FLOODS\" : floods})"
   ]
  },
  {
   "cell_type": "markdown",
   "id": "6ab2287b",
   "metadata": {},
   "source": [
    "## 3. Calculate the probability of flood given it rained more than 500 mm in June (P(A|B))"
   ]
  },
  {
   "cell_type": "code",
   "execution_count": 66,
   "id": "ed046f97",
   "metadata": {},
   "outputs": [],
   "source": [
    "dfCount = df.groupby(\"FLOODS\").count()[\"JUN_GT_500\"]"
   ]
  },
  {
   "cell_type": "code",
   "execution_count": 76,
   "id": "6258d961",
   "metadata": {
    "scrolled": true
   },
   "outputs": [
    {
     "name": "stdout",
     "output_type": "stream",
     "text": [
      "P(FLOOD/JUNE) :  0.5084745762711864\n"
     ]
    }
   ],
   "source": [
    "print(\"P(FLOOD/JUNE) : \", dfCount[1]/len(df.JUN_GT_500))"
   ]
  },
  {
   "cell_type": "markdown",
   "id": "55142b59",
   "metadata": {},
   "source": [
    "## 4. Calculate the probability of rain more than 500 mm in June, given it flooded that year (P(B|A))"
   ]
  },
  {
   "cell_type": "code",
   "execution_count": 87,
   "id": "e2e044b0",
   "metadata": {},
   "outputs": [
    {
     "name": "stdout",
     "output_type": "stream",
     "text": [
      "0.9\n"
     ]
    }
   ],
   "source": [
    "flood = df[df[\"FLOODS\"] == 1].FLOODS.count()\n",
    "rain = df[(df[\"FLOODS\"] == 1) & (df[\"JUN_GT_500\"] == 1)].FLOODS.count()\n",
    "\n",
    "prob = rain / flood\n",
    "print(prob)"
   ]
  },
  {
   "cell_type": "markdown",
   "id": "9f28f0e7",
   "metadata": {},
   "source": [
    "## 5. Probability of flood given it rained more than 500 mm in July"
   ]
  },
  {
   "cell_type": "code",
   "execution_count": 88,
   "id": "d0441532",
   "metadata": {},
   "outputs": [],
   "source": [
    "dfCount = df.groupby(\"FLOODS\").count()[\"JUL_GT_500\"]"
   ]
  },
  {
   "cell_type": "code",
   "execution_count": 89,
   "id": "835a6366",
   "metadata": {},
   "outputs": [
    {
     "name": "stdout",
     "output_type": "stream",
     "text": [
      "P(FLOOD/JULY) :  0.5084745762711864\n"
     ]
    }
   ],
   "source": [
    "print(\"P(FLOOD/JULY) : \", dfCount[1]/len(df.JUL_GT_500))"
   ]
  },
  {
   "cell_type": "markdown",
   "id": "11301ba4",
   "metadata": {},
   "source": [
    "## 6. Probability of rain more than 500 mm in July given it flooded that year (P(B|A))"
   ]
  },
  {
   "cell_type": "code",
   "execution_count": 90,
   "id": "f40fbcf2",
   "metadata": {},
   "outputs": [
    {
     "name": "stdout",
     "output_type": "stream",
     "text": [
      "0.95\n"
     ]
    }
   ],
   "source": [
    "flood = df[df[\"FLOODS\"] == 1].FLOODS.count()\n",
    "rain = df[(df[\"FLOODS\"] == 1) & (df[\"JUL_GT_500\"] == 1)].FLOODS.count()\n",
    "\n",
    "prob = rain / flood\n",
    "print(prob)"
   ]
  },
  {
   "cell_type": "markdown",
   "id": "26456624",
   "metadata": {},
   "source": [
    "# Problem Statement 4"
   ]
  },
  {
   "cell_type": "code",
   "execution_count": 91,
   "id": "62914177",
   "metadata": {},
   "outputs": [],
   "source": [
    "# Write a Python program to load the wine dataset using the Sklearn library to a DataFrame and perform the following tasks."
   ]
  },
  {
   "cell_type": "markdown",
   "id": "6a67c301",
   "metadata": {},
   "source": [
    "## 1. Convert the dataset into DataFrame using pandas"
   ]
  },
  {
   "cell_type": "code",
   "execution_count": 106,
   "id": "2af0db1d",
   "metadata": {},
   "outputs": [],
   "source": [
    "wine = pd.read_csv(\"wine.csv\")"
   ]
  },
  {
   "cell_type": "code",
   "execution_count": 107,
   "id": "a4c3ede6",
   "metadata": {},
   "outputs": [],
   "source": [
    "wine = pd.DataFrame(wine)"
   ]
  },
  {
   "cell_type": "markdown",
   "id": "987f6835",
   "metadata": {},
   "source": [
    "## 2. Generate the sample size of 50 and give a random state as 100"
   ]
  },
  {
   "cell_type": "code",
   "execution_count": 108,
   "id": "238b5e0f",
   "metadata": {},
   "outputs": [],
   "source": [
    "df = wine.sample(n = 50, random_state = 100)"
   ]
  },
  {
   "cell_type": "markdown",
   "id": "114e600b",
   "metadata": {},
   "source": [
    "## 3. Calculate Z-critical, Margin of Error,andConfidence Interval for alcohol at 95% significance interval on generated sample data"
   ]
  },
  {
   "cell_type": "code",
   "execution_count": 110,
   "id": "ac51f9e6",
   "metadata": {},
   "outputs": [],
   "source": [
    "ZCritical = st.norm.ppf(0.95)\n",
    "MError = ZCritical * st.sem(df.alcohol)"
   ]
  },
  {
   "cell_type": "code",
   "execution_count": 112,
   "id": "65a4b6fe",
   "metadata": {},
   "outputs": [
    {
     "name": "stdout",
     "output_type": "stream",
     "text": [
      "Z-Critical Value:  1.6448536269514722\n",
      "Margin of Error:  0.17880519784197366\n",
      "Confidence Interval : (12.794794802158027, 13.152405197841976)\n"
     ]
    }
   ],
   "source": [
    "print(\"Z-Critical Value: \", ZCritical)\n",
    "print(\"Margin of Error: \", MError)\n",
    "print(\"Confidence Interval : ({}, {})\".format(np.mean(df.alcohol) - MError, np.mean(df.alcohol) + MError))"
   ]
  }
 ],
 "metadata": {
  "kernelspec": {
   "display_name": "Python 3 (ipykernel)",
   "language": "python",
   "name": "python3"
  },
  "language_info": {
   "codemirror_mode": {
    "name": "ipython",
    "version": 3
   },
   "file_extension": ".py",
   "mimetype": "text/x-python",
   "name": "python",
   "nbconvert_exporter": "python",
   "pygments_lexer": "ipython3",
   "version": "3.9.12"
  }
 },
 "nbformat": 4,
 "nbformat_minor": 5
}
