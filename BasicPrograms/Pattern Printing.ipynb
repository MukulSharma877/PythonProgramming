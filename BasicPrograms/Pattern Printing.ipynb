{
 "cells": [
  {
   "cell_type": "markdown",
   "id": "57034a39",
   "metadata": {},
   "source": [
    "## Print the Below Pattern"
   ]
  },
  {
   "cell_type": "raw",
   "id": "5a5256d2",
   "metadata": {},
   "source": [
    "for n = 5\n",
    "\n",
    "* \n",
    "* * \n",
    "* * * \n",
    "* * * * \n",
    "* * * * * "
   ]
  },
  {
   "cell_type": "code",
   "execution_count": 1,
   "id": "a1d98303",
   "metadata": {},
   "outputs": [
    {
     "name": "stdout",
     "output_type": "stream",
     "text": [
      "Enter the Number of rows: 5\n",
      "* \n",
      "* * \n",
      "* * * \n",
      "* * * * \n",
      "* * * * * \n"
     ]
    }
   ],
   "source": [
    "rows = int(input(\"Enter the Number of rows: \"))\n",
    "for row in range(rows):\n",
    "    for col in range(row + 1):\n",
    "        print(\"* \", end = \"\")\n",
    "    print()"
   ]
  },
  {
   "cell_type": "markdown",
   "id": "3479f8dd",
   "metadata": {},
   "source": [
    "## Print the Below Pattern"
   ]
  },
  {
   "cell_type": "raw",
   "id": "70c6b621",
   "metadata": {},
   "source": [
    "for n = 5\n",
    "\n",
    "        * \n",
    "      * * \n",
    "    * * * \n",
    "  * * * * \n",
    "* * * * *"
   ]
  },
  {
   "cell_type": "code",
   "execution_count": 4,
   "id": "d3cabb50",
   "metadata": {},
   "outputs": [
    {
     "name": "stdout",
     "output_type": "stream",
     "text": [
      "Enter the number of rows: 5\n",
      "        * \n",
      "      * * \n",
      "    * * * \n",
      "  * * * * \n",
      "* * * * * \n"
     ]
    }
   ],
   "source": [
    "rows = int(input(\"Enter the number of rows: \"))\n",
    "for row in range(rows):\n",
    "    for space in range(rows - row - 1):\n",
    "        print(\"  \", end = \"\")\n",
    "    for col in range(row + 1):\n",
    "        print(\"* \", end = \"\")\n",
    "    print()"
   ]
  },
  {
   "cell_type": "markdown",
   "id": "f7faaf48",
   "metadata": {},
   "source": [
    "## Print the Below Pattern"
   ]
  },
  {
   "cell_type": "raw",
   "id": "86a20042",
   "metadata": {},
   "source": [
    "for n = 5\n",
    "\n",
    "    * \n",
    "   * * \n",
    "  * * * \n",
    " * * * * \n",
    "* * * * * "
   ]
  },
  {
   "cell_type": "code",
   "execution_count": 5,
   "id": "b0bbc1a7",
   "metadata": {},
   "outputs": [
    {
     "name": "stdout",
     "output_type": "stream",
     "text": [
      "Enter the number of rows: 5\n",
      "    * \n",
      "   * * \n",
      "  * * * \n",
      " * * * * \n",
      "* * * * * \n"
     ]
    }
   ],
   "source": [
    "rows = int(input(\"Enter the number of rows: \"))\n",
    "for row in range(rows):\n",
    "    for space in range(rows - row - 1):\n",
    "        print(\" \", end = \"\")\n",
    "    for col in range(row + 1):\n",
    "        print(\"* \", end = \"\")\n",
    "    print()"
   ]
  },
  {
   "cell_type": "markdown",
   "id": "4bcbcb63",
   "metadata": {},
   "source": [
    "## Print the below Pattern"
   ]
  },
  {
   "cell_type": "raw",
   "id": "3a6d08d5",
   "metadata": {},
   "source": [
    "for n = 5\n",
    "\n",
    "1 \n",
    "1 2 \n",
    "1 2 3 \n",
    "1 2 3 4 \n",
    "1 2 3 4 5 "
   ]
  },
  {
   "cell_type": "code",
   "execution_count": 6,
   "id": "01e19519",
   "metadata": {},
   "outputs": [
    {
     "name": "stdout",
     "output_type": "stream",
     "text": [
      "Enter the number of rows: 5\n",
      "1 \n",
      "1 2 \n",
      "1 2 3 \n",
      "1 2 3 4 \n",
      "1 2 3 4 5 \n"
     ]
    }
   ],
   "source": [
    "rows = int(input(\"Enter the number of rows: \"))\n",
    "for row in range(1, rows + 1):\n",
    "    for col in range(1, row + 1):\n",
    "        print(col, end = \" \")\n",
    "    print()"
   ]
  },
  {
   "cell_type": "markdown",
   "id": "c90dacc6",
   "metadata": {},
   "source": [
    "## Print the below pattern"
   ]
  },
  {
   "cell_type": "raw",
   "id": "9228183f",
   "metadata": {},
   "source": [
    "n = 5\n",
    "\n",
    "1 \n",
    "2 3 \n",
    "4 5 6 \n",
    "7 8 9 10 \n",
    "11 12 13 14 15"
   ]
  },
  {
   "cell_type": "code",
   "execution_count": 1,
   "id": "28b340d7",
   "metadata": {},
   "outputs": [
    {
     "name": "stdout",
     "output_type": "stream",
     "text": [
      "Enter the number of rows: 5\n",
      "1 \n",
      "2 3 \n",
      "4 5 6 \n",
      "7 8 9 10 \n",
      "11 12 13 14 15 \n"
     ]
    }
   ],
   "source": [
    "rows = int(input(\"Enter the number of rows: \"))\n",
    "count = 1\n",
    "for row in range(rows):\n",
    "    for col in range(row + 1):\n",
    "        print(count, end = \" \")\n",
    "        count += 1\n",
    "    print()"
   ]
  },
  {
   "cell_type": "markdown",
   "id": "6d3de704",
   "metadata": {},
   "source": [
    "## Print the below pattern"
   ]
  },
  {
   "cell_type": "raw",
   "id": "ab705ed8",
   "metadata": {},
   "source": [
    "n = 5\n",
    "\n",
    "A \n",
    "B B \n",
    "C C C \n",
    "D D D D \n",
    "E E E E E "
   ]
  },
  {
   "cell_type": "code",
   "execution_count": 2,
   "id": "a919a662",
   "metadata": {},
   "outputs": [
    {
     "name": "stdout",
     "output_type": "stream",
     "text": [
      "Enter the number of rows: 5\n",
      "A \n",
      "B B \n",
      "C C C \n",
      "D D D D \n",
      "E E E E E \n"
     ]
    }
   ],
   "source": [
    "rows = int(input(\"Enter the number of rows: \"))\n",
    "char = 65\n",
    "for row in range(rows):\n",
    "    for col in range(row + 1):\n",
    "        print(chr(char), end = \" \")\n",
    "    char += 1\n",
    "    print()"
   ]
  },
  {
   "cell_type": "markdown",
   "id": "b7932d75",
   "metadata": {},
   "source": [
    "## Print the below pattern"
   ]
  },
  {
   "cell_type": "raw",
   "id": "057256a6",
   "metadata": {},
   "source": [
    "n = 5\n",
    "\n",
    "--------e--------\n",
    "------e-d-e------\n",
    "----e-d-c-d-e----\n",
    "--e-d-c-b-c-d-e--\n",
    "e-d-c-b-a-b-c-d-e\n",
    "--e-d-c-b-c-d-e--\n",
    "----e-d-c-d-e----\n",
    "------e-d-e------\n",
    "--------e--------"
   ]
  },
  {
   "cell_type": "code",
   "execution_count": 4,
   "id": "50fec947",
   "metadata": {},
   "outputs": [
    {
     "name": "stdout",
     "output_type": "stream",
     "text": [
      "5\n",
      "--------e--------\n",
      "------e-d-e------\n",
      "----e-d-c-d-e----\n",
      "--e-d-c-b-c-d-e--\n",
      "e-d-c-b-a-b-c-d-e\n",
      "--e-d-c-b-c-d-e--\n",
      "----e-d-c-d-e----\n",
      "------e-d-e------\n",
      "--------e--------\n"
     ]
    }
   ],
   "source": [
    "rows = int(input())\n",
    "for row in range(rows):\n",
    "    string, string1 = \"\", \"\"\n",
    "    count = 97 + rows - 1\n",
    "    for col in range(row + 1):\n",
    "        string = string + chr(count) + \"-\"\n",
    "        count -= 1\n",
    "    count += 2\n",
    "    for col in range(row):\n",
    "        string1 = string1 + chr(count) + \"-\"\n",
    "        count += 1\n",
    "    print((string + string1)[:-1].center(rows + (rows - 2) + (rows * 2 - 1), \"-\"))\n",
    "for row in range(rows - 1):\n",
    "    string, string1 = \"\", \"\"\n",
    "    count = 97 + rows - 1\n",
    "    for col in range(rows - row - 1):\n",
    "        string = string + chr(count) + \"-\"\n",
    "        count -= 1\n",
    "    count += 2\n",
    "    for col in range(rows - row - 2):\n",
    "        string1 = string1 + chr(count) + \"-\"\n",
    "        count += 1\n",
    "    print((string + string1)[:-1].center(rows + (rows - 2) + (rows * 2 - 1), \"-\"))"
   ]
  }
 ],
 "metadata": {
  "kernelspec": {
   "display_name": "Python 3 (ipykernel)",
   "language": "python",
   "name": "python3"
  },
  "language_info": {
   "codemirror_mode": {
    "name": "ipython",
    "version": 3
   },
   "file_extension": ".py",
   "mimetype": "text/x-python",
   "name": "python",
   "nbconvert_exporter": "python",
   "pygments_lexer": "ipython3",
   "version": "3.9.12"
  }
 },
 "nbformat": 4,
 "nbformat_minor": 5
}
