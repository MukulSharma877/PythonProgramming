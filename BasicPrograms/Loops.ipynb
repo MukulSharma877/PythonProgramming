{
 "cells": [
  {
   "cell_type": "markdown",
   "id": "233b2a2a",
   "metadata": {},
   "source": [
    "## Python Program to Print All Odd Numbers in a Range"
   ]
  },
  {
   "cell_type": "code",
   "execution_count": 1,
   "id": "cdd308f2",
   "metadata": {},
   "outputs": [
    {
     "name": "stdout",
     "output_type": "stream",
     "text": [
      "Enter the range: 20\n",
      "1\t3\t5\t7\t9\t11\t13\t15\t17\t19\t"
     ]
    }
   ],
   "source": [
    "ran = int(input(\"Enter the range: \"))\n",
    "for i in range(1, ran + 1, 2):\n",
    "    print(i, end = \"\\t\")"
   ]
  },
  {
   "cell_type": "markdown",
   "id": "96257b9e",
   "metadata": {},
   "source": [
    "## Python Program to Reverse a Number"
   ]
  },
  {
   "cell_type": "code",
   "execution_count": 3,
   "id": "dc0c09b8",
   "metadata": {},
   "outputs": [
    {
     "name": "stdout",
     "output_type": "stream",
     "text": [
      "Enter the Number: 123\n",
      "Reversed Number:  321\n"
     ]
    }
   ],
   "source": [
    "num = int(input(\"Enter the Number: \"))\n",
    "rev = 0\n",
    "while num != 0:\n",
    "    rem = num % 10\n",
    "    rev = rev * 10 + rem\n",
    "    num //= 10\n",
    "print(\"Reversed Number: \", rev)"
   ]
  },
  {
   "cell_type": "markdown",
   "id": "fe61a6d9",
   "metadata": {},
   "source": [
    "## Python Program to Find Sum of Digits of a Number"
   ]
  },
  {
   "cell_type": "code",
   "execution_count": 4,
   "id": "a444b0af",
   "metadata": {},
   "outputs": [
    {
     "name": "stdout",
     "output_type": "stream",
     "text": [
      "Enter the Number: 123\n",
      "Sum of the Digits of the Number:  6\n"
     ]
    }
   ],
   "source": [
    "num = int(input(\"Enter the Number: \"))\n",
    "numSum = 0\n",
    "while num != 0:\n",
    "    rem = num % 10\n",
    "    numSum += rem\n",
    "    num //= 10\n",
    "print(\"Sum of the Digits of the Number: \", numSum)"
   ]
  },
  {
   "cell_type": "markdown",
   "id": "32e5982d",
   "metadata": {},
   "source": [
    "## Python Program to Print Table of a Given Number"
   ]
  },
  {
   "cell_type": "code",
   "execution_count": 5,
   "id": "45fe92df",
   "metadata": {},
   "outputs": [
    {
     "name": "stdout",
     "output_type": "stream",
     "text": [
      "Enter a Number: 12\n",
      "12 * 1 = 12\n",
      "12 * 2 = 24\n",
      "12 * 3 = 36\n",
      "12 * 4 = 48\n",
      "12 * 5 = 60\n",
      "12 * 6 = 72\n",
      "12 * 7 = 84\n",
      "12 * 8 = 96\n",
      "12 * 9 = 108\n",
      "12 * 10 = 120\n"
     ]
    }
   ],
   "source": [
    "num = int(input(\"Enter a Number: \"))\n",
    "for i in range(1, 11):\n",
    "    print(\"{} * {} = {}\".format(num, i, num * i))"
   ]
  },
  {
   "cell_type": "markdown",
   "id": "4be4999c",
   "metadata": {},
   "source": [
    "## Python Program to Check whether a Number is Prime"
   ]
  },
  {
   "cell_type": "code",
   "execution_count": 7,
   "id": "4dc0e674",
   "metadata": {},
   "outputs": [
    {
     "name": "stdout",
     "output_type": "stream",
     "text": [
      "Enter the Number: 17\n",
      "17 is a Prime Number\n"
     ]
    }
   ],
   "source": [
    "num = int(input(\"Enter the Number: \"))\n",
    "count = 0\n",
    "for i in range(1, num + 1):\n",
    "    if num % i == 0:\n",
    "        count += 1\n",
    "if count == 2:\n",
    "    print(\"{} is a Prime Number\".format(num))\n",
    "else:\n",
    "    print(\"{} is not a Prime Number\".format(num))"
   ]
  },
  {
   "cell_type": "markdown",
   "id": "94c8a16d",
   "metadata": {},
   "source": [
    "## Python Program to Find the Factorial of a Number using Recursion"
   ]
  },
  {
   "cell_type": "code",
   "execution_count": 8,
   "id": "e2c59f98",
   "metadata": {},
   "outputs": [
    {
     "name": "stdout",
     "output_type": "stream",
     "text": [
      "Enter a Number: 5\n",
      "Factorial of 5 is: 120\n"
     ]
    }
   ],
   "source": [
    "num = int(input(\"Enter a Number: \"))\n",
    "fact = 1\n",
    "for i in range(1, num + 1):\n",
    "    fact *= i\n",
    "print(\"Factorial of {} is: {}\".format(num, fact))"
   ]
  }
 ],
 "metadata": {
  "kernelspec": {
   "display_name": "Python 3 (ipykernel)",
   "language": "python",
   "name": "python3"
  },
  "language_info": {
   "codemirror_mode": {
    "name": "ipython",
    "version": 3
   },
   "file_extension": ".py",
   "mimetype": "text/x-python",
   "name": "python",
   "nbconvert_exporter": "python",
   "pygments_lexer": "ipython3",
   "version": "3.9.12"
  }
 },
 "nbformat": 4,
 "nbformat_minor": 5
}
