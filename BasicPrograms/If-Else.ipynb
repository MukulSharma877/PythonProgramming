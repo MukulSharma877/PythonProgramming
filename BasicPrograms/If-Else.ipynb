{
 "cells": [
  {
   "cell_type": "markdown",
   "id": "5d9a9615",
   "metadata": {},
   "source": [
    "## Python Program to Check Whether a Given Number is Even or Odd"
   ]
  },
  {
   "cell_type": "code",
   "execution_count": 1,
   "id": "ae79aaf3",
   "metadata": {},
   "outputs": [
    {
     "name": "stdout",
     "output_type": "stream",
     "text": [
      "Enter a Number: 24\n",
      "24 is an Even Number\n"
     ]
    }
   ],
   "source": [
    "num = int(input(\"Enter a Number: \"))\n",
    "print(\"{} is an Even Number\".format(num) if num % 2 == 0 else \"{} is an Odd Number\".format(num))"
   ]
  },
  {
   "cell_type": "markdown",
   "id": "404a2620",
   "metadata": {},
   "source": [
    "## Python Program to Check Whether a Number is Positive or Negative"
   ]
  },
  {
   "cell_type": "code",
   "execution_count": 3,
   "id": "b69a97df",
   "metadata": {},
   "outputs": [
    {
     "name": "stdout",
     "output_type": "stream",
     "text": [
      "Enter a Number: -24\n",
      "-24 is a Negative Number\n"
     ]
    }
   ],
   "source": [
    "num = int(input(\"Enter a Number: \"))\n",
    "print(\"{} is a Positive Number\".format(num) if num >= 0 else \"{} is a Negative Number\".format(num))"
   ]
  },
  {
   "cell_type": "markdown",
   "id": "9bc51e3e",
   "metadata": {},
   "source": [
    "## Python Program to Check Whether a given Year is a Leap Year"
   ]
  },
  {
   "cell_type": "code",
   "execution_count": 6,
   "id": "f8cf1d17",
   "metadata": {},
   "outputs": [
    {
     "name": "stdout",
     "output_type": "stream",
     "text": [
      "Enter a Year: 2000\n",
      "2000 is a Leap Year\n"
     ]
    }
   ],
   "source": [
    "year = int(input(\"Enter a Year: \"))\n",
    "if year % 4 == 0 and year % 100 != 0 or year % 400 == 0:\n",
    "    print(\"{} is a Leap Year\".format(year))\n",
    "else:\n",
    "    print(\"{} is not a Leap Year\".format(year))"
   ]
  },
  {
   "cell_type": "markdown",
   "id": "4f0a0432",
   "metadata": {},
   "source": [
    "## Python Program to Calculate Grade of a Student"
   ]
  },
  {
   "cell_type": "code",
   "execution_count": 9,
   "id": "ab540ed8",
   "metadata": {},
   "outputs": [
    {
     "name": "stdout",
     "output_type": "stream",
     "text": [
      "Enter Subject Marks of 3 Subjects(within 100): 91 90 90\n",
      "Grade A\n"
     ]
    }
   ],
   "source": [
    "sub1, sub2, sub3 = map(int, input(\"Enter Subject Marks of 3 Subjects(within 100): \").split())\n",
    "per = (sub1 + sub2 + sub3) * 100 / 300\n",
    "if per > 90 and per <= 100:\n",
    "    print(\"Grade A\")\n",
    "elif per <= 90 and per > 80:\n",
    "    print(\"Grade B\")\n",
    "elif per <= 80 and per > 70:\n",
    "    print(\"Grade C\")\n",
    "elif per <= 70 and per > 60:\n",
    "    print(\"Grade D\")\n",
    "else:\n",
    "    print(\"Fail\")"
   ]
  },
  {
   "cell_type": "markdown",
   "id": "777a670d",
   "metadata": {},
   "source": [
    "## Python Program to check the greatest of 3 numbers"
   ]
  },
  {
   "cell_type": "code",
   "execution_count": 10,
   "id": "988689ce",
   "metadata": {},
   "outputs": [
    {
     "name": "stdout",
     "output_type": "stream",
     "text": [
      "Enter 3 Numbers: 34 23 45\n",
      "45 is Greatest\n"
     ]
    }
   ],
   "source": [
    "num1, num2, num3 = map(int, input(\"Enter 3 Numbers: \").split())\n",
    "if num1 > num2:\n",
    "    if num1 > num3:\n",
    "        print(\"{} is Greatest\".format(num1))\n",
    "    else:\n",
    "        print(\"{} is Greatest\".format(num3))\n",
    "else:\n",
    "    if num2 > num3:\n",
    "        print(\"{} is Greatest\".format(num2))\n",
    "    else:\n",
    "        print(\"{} is Greatest\".format(num3))"
   ]
  }
 ],
 "metadata": {
  "kernelspec": {
   "display_name": "Python 3 (ipykernel)",
   "language": "python",
   "name": "python3"
  },
  "language_info": {
   "codemirror_mode": {
    "name": "ipython",
    "version": 3
   },
   "file_extension": ".py",
   "mimetype": "text/x-python",
   "name": "python",
   "nbconvert_exporter": "python",
   "pygments_lexer": "ipython3",
   "version": "3.9.12"
  }
 },
 "nbformat": 4,
 "nbformat_minor": 5
}
